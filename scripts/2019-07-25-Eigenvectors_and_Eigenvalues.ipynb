{
 "cells": [
  {
   "cell_type": "code",
   "execution_count": 2,
   "metadata": {},
   "outputs": [],
   "source": [
    "import numpy as np\n",
    "Q = np.mat(\"0 0.121 0.1864 0.337 0.0631 0.158; 0.148 0 0.3739 0.1349 0.0632 0.1582; 0.1461 0.2398 0 0.1333 0.4073 0.1558; 0.3692 0.1209 0.1863 0 0.0947 0.2368; 0.1468 0.1203 1.2085 0.201 0 0.2359; 0.1471 0.1205 0.185 0.2012 0.0944 0\")"
   ]
  },
  {
   "cell_type": "code",
   "execution_count": 3,
   "metadata": {},
   "outputs": [],
   "source": [
    "def expected_number_of_transitions_in_time_t(t, Q):  \n",
    "    m= Q.shape[0]\n",
    "    eigenvalue,eigenvector = np.linalg.eig(Q)\n",
    "    eigenvector_inv = np.linalg.inv(eigenvector)\n",
    "    E_n = np.zeros((m,m))\n",
    "    for i in range(m):\n",
    "        d_i=eigenvalue[i]\n",
    "        E_i = np.zeros((m,m))\n",
    "        E_i[i,i]=1\n",
    "\n",
    "\n",
    "        S_i = eigenvector*E_i*eigenvector_inv\n",
    "        \n",
    "        for j in range(m):\n",
    "            d_j=eigenvalue[j]\n",
    "            E_j = np.zeros((m,m))\n",
    "            E_j[j,j]=1\n",
    "            S_j= eigenvector*E_j*eigenvector_inv\n",
    "           \n",
    "            if d_i == d_j:\n",
    "                I_ij = t*np.exp(d_i*t)\n",
    "            else: \n",
    "                I_ij = (np.exp(d_i*t)-np.exp(d_j*t))/(d_i - d_j)\n",
    "\n",
    "            N_greek=S_i*Q*S_j*I_ij\n",
    "            E_n += N_greek\n",
    "         \n",
    "    return E_n"
   ]
  },
  {
   "cell_type": "code",
   "execution_count": 4,
   "metadata": {},
   "outputs": [
    {
     "data": {
      "text/plain": [
       "array([[2.06565935, 1.83449652, 3.79334825, 2.44693295, 1.93999097,\n",
       "        2.18310751],\n",
       "       [2.24268549, 1.78010259, 4.29680167, 2.28637133, 2.19627797,\n",
       "        2.23160493],\n",
       "       [2.97385572, 2.75566119, 5.99789678, 3.06726565, 3.32933675,\n",
       "        3.03399921],\n",
       "       [2.68098238, 2.04921188, 4.28686094, 2.37899537, 2.19850387,\n",
       "        2.48652594],\n",
       "       [4.51265559, 4.17935483, 9.87861144, 4.66740662, 4.88283224,\n",
       "        4.64607836],\n",
       "       [2.0323786 , 1.69949305, 3.60279278, 2.11271819, 1.85938863,\n",
       "        1.75939457]])"
      ]
     },
     "execution_count": 4,
     "metadata": {},
     "output_type": "execute_result"
    }
   ],
   "source": [
    "expected_number_of_transitions_in_time_t(2, Q)"
   ]
  }
 ],
 "metadata": {
  "kernelspec": {
   "display_name": "Python 3",
   "language": "python",
   "name": "python3"
  },
  "language_info": {
   "codemirror_mode": {
    "name": "ipython",
    "version": 3
   },
   "file_extension": ".py",
   "mimetype": "text/x-python",
   "name": "python",
   "nbconvert_exporter": "python",
   "pygments_lexer": "ipython3",
   "version": "3.7.3"
  }
 },
 "nbformat": 4,
 "nbformat_minor": 2
}
