{
 "cells": [
  {
   "cell_type": "markdown",
   "metadata": {},
   "source": [
    "# This is The Q Matrix of the counts of transitions per year "
   ]
  },
  {
   "cell_type": "code",
   "execution_count": 34,
   "metadata": {},
   "outputs": [],
   "source": [
    "import numpy as np\n",
    "Q = np.mat(\"0 0.121 0.1864 0.337 0.0631 0.158; 0.148 0 0.3739 0.1349 0.0632 0.1582; 0.1461 0.2398 0 0.1333 0.4073 0.1558; 0.3692 0.1209 0.1863 0 0.0947 0.2368; 0.1468 0.1203 1.2085 0.201 0 0.2359; 0.1471 0.1205 0.185 0.2012 0.0944 0\")"
   ]
  },
  {
   "cell_type": "markdown",
   "metadata": {},
   "source": [
    "# This is the function we THINK is giving us the EXPECTED number of transitions in a given time "
   ]
  },
  {
   "cell_type": "code",
   "execution_count": 123,
   "metadata": {},
   "outputs": [],
   "source": [
    "def expected_number_of_transitions_in_time_t(t, Q):  \n",
    "    m= Q.shape[0]\n",
    "    eigenvalue,eigenvector = np.linalg.eig(Q)\n",
    "    eigenvector_inv = np.linalg.inv(eigenvector)\n",
    "    E_n = np.zeros((m,m))\n",
    "    for i in range(m):\n",
    "        d_i=eigenvalue[i]\n",
    "        E_i = np.zeros((m,m))\n",
    "        E_i[i,i]=1\n",
    "\n",
    "\n",
    "        S_i = eigenvector*E_i*eigenvector_inv\n",
    "        \n",
    "        for j in range(m):\n",
    "            d_j=eigenvalue[j]\n",
    "            E_j = np.zeros((m,m))\n",
    "            E_j[j,j]=1\n",
    "            S_j= eigenvector*E_j*eigenvector_inv\n",
    "           \n",
    "            if d_i == d_j:\n",
    "                I_ij = t*np.exp(d_i*t)\n",
    "            else: \n",
    "                I_ij = (np.exp(d_i*t)-np.exp(d_j*t))/(d_i - d_j)\n",
    "\n",
    "            N_greek=S_i*Q*S_j*I_ij\n",
    "            E_n += N_greek\n",
    "         \n",
    "    return E_n"
   ]
  },
  {
   "cell_type": "code",
   "execution_count": 122,
   "metadata": {
    "scrolled": true
   },
   "outputs": [
    {
     "data": {
      "text/plain": [
       "array([[0.29671631, 0.32216739, 0.60292535, 0.53928089, 0.29240695,\n",
       "        0.4015138 ],\n",
       "       [0.39390026, 0.23894032, 0.77472723, 0.39165344, 0.34720075,\n",
       "        0.39666954],\n",
       "       [0.47266168, 0.49686286, 0.88455883, 0.48446971, 0.66095034,\n",
       "        0.49744687],\n",
       "       [0.59084211, 0.35101495, 0.67711223, 0.34118033, 0.34100175,\n",
       "        0.48440126],\n",
       "       [0.68017038, 0.66072331, 1.96112697, 0.72391751, 0.7265436 ,\n",
       "        0.75363261],\n",
       "       [0.37379798, 0.30209813, 0.59069936, 0.41158173, 0.30160222,\n",
       "        0.2338341 ]])"
      ]
     },
     "execution_count": 122,
     "metadata": {},
     "output_type": "execute_result"
    }
   ],
   "source": [
    "expected_number_of_transitions_in_time_t(1, Q)"
   ]
  },
  {
   "cell_type": "markdown",
   "metadata": {},
   "source": [
    "# This is the number of expected transitons from i to ANY j "
   ]
  },
  {
   "cell_type": "code",
   "execution_count": 127,
   "metadata": {
    "scrolled": true
   },
   "outputs": [
    {
     "name": "stdout",
     "output_type": "stream",
     "text": [
      "[2.45501069 2.54309154 3.49695029 2.78555263 5.50611439 2.21361353]\n"
     ]
    }
   ],
   "source": [
    "print(np.sum(a=expected_number_of_transitions_in_time_t(1,Q), axis=1))"
   ]
  },
  {
   "cell_type": "markdown",
   "metadata": {},
   "source": [
    "# This is the number of transitons from i to ANY j "
   ]
  },
  {
   "cell_type": "code",
   "execution_count": 90,
   "metadata": {
    "scrolled": true
   },
   "outputs": [
    {
     "name": "stdout",
     "output_type": "stream",
     "text": [
      "[[0.8655]\n",
      " [0.8782]\n",
      " [1.0823]\n",
      " [1.0079]\n",
      " [1.9125]\n",
      " [0.7482]]\n"
     ]
    }
   ],
   "source": [
    "np.sum(a = Q, axis=1)\n",
    "print(np.sum(a = Q, axis=1))"
   ]
  },
  {
   "cell_type": "markdown",
   "metadata": {},
   "source": [
    "# This is the Simulation to show that the code that computes the expected number of transitions in a given time up above is correct.  "
   ]
  },
  {
   "cell_type": "code",
   "execution_count": 120,
   "metadata": {},
   "outputs": [
    {
     "name": "stdout",
     "output_type": "stream",
     "text": [
      "Number of transitions from A to any state before time 1: 0.591\n",
      "Number of transitions from B to any state before time 1: 0.586\n",
      "Number of transitions from C to any state before time 1: 0.648\n",
      "Number of transitions from D to any state before time 1: 0.655\n",
      "Number of transitions from E to any state before time 1: 0.857\n",
      "Number of transitions from F to any state before time 1: 0.509\n"
     ]
    }
   ],
   "source": [
    "events_in_trial_a=[]\n",
    "for trials in range(1000):\n",
    "    events=sum(np.random.exponential(1/0.8655, size= 1) < 1.0)\n",
    "    events_in_trial_a.append(events)\n",
    "print(\"Number of transitions from A to any state before time 1: \" + str(sum(events_in_trial_a)/1000))  \n",
    "events_in_trial_b=[]\n",
    "for trials in range(1000):\n",
    "    events=sum(np.random.exponential(1/0.8782, size= 1) < 1.0)\n",
    "    events_in_trial_b.append(events)\n",
    "print(\"Number of transitions from B to any state before time 1: \" + str(sum(events_in_trial_b)/1000))\n",
    "    \n",
    "events_in_trial_c=[]\n",
    "for trials in range(1000):\n",
    "    events=sum(np.random.exponential(1/1.0823, size= 1) < 1.0)\n",
    "    events_in_trial_c.append(events)\n",
    "print(\"Number of transitions from C to any state before time 1: \" + str(sum(events_in_trial_c)/1000)) \n",
    "\n",
    "events_in_trial_d=[]\n",
    "for trials in range(1000):\n",
    "    events=sum(np.random.exponential(1/1.0079, size= 1) < 1.0)\n",
    "    events_in_trial_d.append(events)\n",
    "print(\"Number of transitions from D to any state before time 1: \" + str(sum(events_in_trial_d)/1000))\n",
    "    \n",
    "events_in_trial_e=[]\n",
    "for trials in range(1000):\n",
    "    events=sum(np.random.exponential(1/1.9125, size= 1) < 1.0)\n",
    "    events_in_trial_e.append(events)\n",
    "print(\"Number of transitions from E to any state before time 1: \" + str(sum(events_in_trial_e)/1000))\n",
    "    \n",
    "events_in_trial_f=[]\n",
    "for trials in range(1000):\n",
    "    events=sum(np.random.exponential(1/0.7482, size= 1) < 1.0)\n",
    "    events_in_trial_f.append(events)\n",
    "print(\"Number of transitions from F to any state before time 1: \" + str(sum(events_in_trial_f)/1000))"
   ]
  },
  {
   "cell_type": "markdown",
   "metadata": {},
   "source": [
    "# Below is a histogram of the distibution of the random exponential times for an event to occur for starting state A. other random samples from the other starting states produce similar state.  \n",
    "## other random samples of time from the other starting states produce similar state.  "
   ]
  },
  {
   "cell_type": "code",
   "execution_count": 107,
   "metadata": {
    "scrolled": false
   },
   "outputs": [
    {
     "data": {
      "text/plain": [
       "(array([464., 248., 118.,  73.,  50.,  25.,  11.,   6.,   1.,   4.]),\n",
       " array([5.76600486e-04, 7.11372854e-01, 1.42216911e+00, 2.13296536e+00,\n",
       "        2.84376161e+00, 3.55455787e+00, 4.26535412e+00, 4.97615037e+00,\n",
       "        5.68694663e+00, 6.39774288e+00, 7.10853913e+00]),\n",
       " <a list of 10 Patch objects>)"
      ]
     },
     "execution_count": 107,
     "metadata": {},
     "output_type": "execute_result"
    },
    {
     "data": {
      "image/png": "[encoded data removed]",
      "text/plain": [
       "<Figure size 432x288 with 1 Axes>"
      ]
     },
     "metadata": {
      "needs_background": "light"
     },
     "output_type": "display_data"
    }
   ],
   "source": [
    "import matplotlib.pyplot as plt\n",
    "np.mean(events_in_trial_a)\n",
    "plt.hist(np.random.exponential(1/0.8655, size= 1000))"
   ]
  },
  {
   "cell_type": "code",
   "execution_count": 86,
   "metadata": {},
   "outputs": [],
   "source": []
  }
 ],
 "metadata": {
  "kernelspec": {
   "display_name": "Python 3",
   "language": "python",
   "name": "python3"
  },
  "language_info": {
   "codemirror_mode": {
    "name": "ipython",
    "version": 3
   },
   "file_extension": ".py",
   "mimetype": "text/x-python",
   "name": "python",
   "nbconvert_exporter": "python",
   "pygments_lexer": "ipython3",
   "version": "3.7.3"
  }
 },
 "nbformat": 4,
 "nbformat_minor": 2
}
