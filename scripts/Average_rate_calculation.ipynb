{
 "cells": [
  {
   "cell_type": "code",
   "execution_count": 2,
   "metadata": {},
   "outputs": [],
   "source": [
    "import numpy as np\n",
    "import scipy\n",
    "from scipy import linalg"
   ]
  },
  {
   "cell_type": "code",
   "execution_count": 3,
   "metadata": {},
   "outputs": [
    {
     "data": {
      "text/plain": [
       "array([[-1.4651,  1.3374,  0.1277,  0.    ],\n",
       "       [ 1.2154, -1.222 ,  0.0066,  0.    ],\n",
       "       [ 0.0099,  0.0808, -0.5993,  0.5086],\n",
       "       [ 0.    ,  0.    ,  0.853 , -0.853 ]])"
      ]
     },
     "execution_count": 3,
     "metadata": {},
     "output_type": "execute_result"
    }
   ],
   "source": [
    "Q=np.fromstring(\"-1.4651 1.3374 0.1277 0 1.2154 -1.2220 0.0066 0 0.0099 0.0808 -0.5993 0.5086 0 0 0.8530 -0.8530\", dtype=float, sep=\" \").reshape(4,4)\n",
    "Q"
   ]
  },
  {
   "cell_type": "code",
   "execution_count": 25,
   "metadata": {},
   "outputs": [],
   "source": [
    "stationary_mat = linalg.expm(Q*1000)\n",
    "stationary_mat"
   ]
  },
  {
   "cell_type": "code",
   "execution_count": 29,
   "metadata": {},
   "outputs": [
    {
     "name": "stdout",
     "output_type": "stream",
     "text": [
      "[[0.90393832 1.07864354 1.3511794  0.80563874]\n",
      " [0.90393832 1.07864354 1.3511794  0.80563874]\n",
      " [0.90393832 1.07864354 1.3511794  0.80563874]\n",
      " [0.90393832 1.07864354 1.3511794  0.80563874]]\n"
     ]
    }
   ],
   "source": [
    "sum_i_total = np.zeros_like(Q)\n",
    "for i in range(Q.shape[0]):\n",
    "    sum_i=Q[i,i] * stationary_mat[i]\n",
    "    sum_i_total += sum_i\n",
    "print(-1*sum_i_total)"
   ]
  }
 ],
 "metadata": {
  "kernelspec": {
   "display_name": "Python 3",
   "language": "python",
   "name": "python3"
  },
  "language_info": {
   "codemirror_mode": {
    "name": "ipython",
    "version": 3
   },
   "file_extension": ".py",
   "mimetype": "text/x-python",
   "name": "python",
   "nbconvert_exporter": "python",
   "pygments_lexer": "ipython3",
   "version": "3.7.3"
  }
 },
 "nbformat": 4,
 "nbformat_minor": 2
}
