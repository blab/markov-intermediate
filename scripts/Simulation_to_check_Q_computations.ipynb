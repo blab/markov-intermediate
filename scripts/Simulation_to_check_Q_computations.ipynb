{
 "cells": [
  {
   "cell_type": "code",
   "execution_count": 16,
   "metadata": {},
   "outputs": [],
   "source": [
    "import numpy as np"
   ]
  },
  {
   "cell_type": "code",
   "execution_count": 5,
   "metadata": {},
   "outputs": [],
   "source": [
    "Q = np.mat(\"-0.8655 0.121 0.1864 0.337 0.0631 0.158; 0.148 -0.8782 0.3739 0.1349 0.0632 0.1582; 0.1461 0.2398 -1.0823 0.1333 0.4073 0.1558; 0.3692 0.1209 0.1863 -1.0079 0.0947 0.2368; 0.1468 0.1203 1.2085 0.201 -1.9125 0.2359; 0.1471 0.1205 0.185 0.2012 0.0944 -0.7482\")"
   ]
  },
  {
   "cell_type": "markdown",
   "metadata": {},
   "source": [
    "# Function to check if your computations are correct"
   ]
  },
  {
   "cell_type": "code",
   "execution_count": 113,
   "metadata": {},
   "outputs": [],
   "source": [
    "def simulated_number_of_transitions(t, first, last, Q):\n",
    "    Q_array=np.array(Q)\n",
    "    transitions=[]\n",
    "    for simulation_trials in range(5000):\n",
    "        states=[]\n",
    "        time_passed=0\n",
    "        start_state= range(Q.shape[0])\n",
    "        first_state=np.random.choice(start_state, 1, p=[.1814796, .1484505, .23148469, .16563497, .07801549, 0.19493475])\n",
    "        state=int(\"\".join(map(str, first_state)))\n",
    "        while time_passed < t:\n",
    "            new_time = np.random.exponential(1/Q_array[state, (Q_array[state] >= 0)].sum())\n",
    "            time_passed += new_time\n",
    "            new_state = np.random.choice(start_state, 1, p=[.1814796, .1484505, .23148469, .16563497, .07801549, 0.19493475])\n",
    "            states.append(new_state)\n",
    "            current_state=states[-1]\n",
    "            if (first_state == first and current_state == last):\n",
    "                transitions.append(states)\n",
    "    print(\"EXPECTED NUMBER OF TRANSITIONS IN TIME T: \" + str(len(transitions)/5000))"
   ]
  },
  {
   "cell_type": "code",
   "execution_count": 114,
   "metadata": {
    "scrolled": true
   },
   "outputs": [
    {
     "name": "stdout",
     "output_type": "stream",
     "text": [
      "EXPECTED NUMBER OF TRANSITIONS IN TIME T: 0.0502\n"
     ]
    }
   ],
   "source": [
    "simulated_number_of_transitions(1, 0, 1, Q)"
   ]
  }
 ],
 "metadata": {
  "kernelspec": {
   "display_name": "Python 3",
   "language": "python",
   "name": "python3"
  },
  "language_info": {
   "codemirror_mode": {
    "name": "ipython",
    "version": 3
   },
   "file_extension": ".py",
   "mimetype": "text/x-python",
   "name": "python",
   "nbconvert_exporter": "python",
   "pygments_lexer": "ipython3",
   "version": "3.7.3"
  }
 },
 "nbformat": 4,
 "nbformat_minor": 2
}
