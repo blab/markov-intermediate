{
 "cells": [
  {
   "cell_type": "markdown",
   "metadata": {},
   "source": [
    "# README\n",
    "### The point of this project is to accurately calculate the expected number of transitions between states (between regions) in a given amount of time. Minin & Suchard produced a paper with an equation that computes the number of expected transitions between states in a given amount of time. So the goal of this project is to make sure that the equation is properly implememnted into code. The equation is impemented in the 'expected_number_of_transitions_in_time_t' function. The remaining code is constructing a simulation that actually runs through a series of events and records the number of times certain events occur (which are the number of transitions). The other portion of the remaining code is creating several figures to understand how accurate the implementation of the equation was compared to the simulation. The implementation of the equation in this case was effective as the simulation yielded very similar results. \n",
    "Minin & Suchard paper: http://vnminin.github.io/papers/MininSuchard2009.pdf\n",
    "\n",
    "### For all the figures to function normally, the following code needs to be run in Jupyer Lab"
   ]
  },
  {
   "cell_type": "markdown",
   "metadata": {},
   "source": [
    "# All the packages that need to be imported "
   ]
  },
  {
   "cell_type": "code",
   "execution_count": 25,
   "metadata": {},
   "outputs": [],
   "source": [
    "import numpy as np\n",
    "import scipy\n",
    "from scipy import linalg\n",
    "import pandas as pd\n",
    "import altair as alt\n",
    "import seaborn as sns"
   ]
  },
  {
   "cell_type": "markdown",
   "metadata": {},
   "source": [
    "# Define the Q-Matrix that you will be used for this experiment "
   ]
  },
  {
   "cell_type": "code",
   "execution_count": 26,
   "metadata": {},
   "outputs": [
    {
     "data": {
      "text/plain": [
       "array([[-0.8655,  0.121 ,  0.1864,  0.337 ,  0.0631,  0.158 ],\n",
       "       [ 0.148 , -0.8782,  0.3739,  0.1349,  0.0632,  0.1582],\n",
       "       [ 0.1461,  0.2398, -1.0823,  0.1333,  0.4073,  0.1558],\n",
       "       [ 0.3692,  0.1209,  0.1863, -1.0079,  0.0947,  0.2368],\n",
       "       [ 0.1468,  0.1203,  1.2085,  0.201 , -1.9125,  0.2359],\n",
       "       [ 0.1471,  0.1205,  0.185 ,  0.2012,  0.0944, -0.7482]])"
      ]
     },
     "execution_count": 26,
     "metadata": {},
     "output_type": "execute_result"
    }
   ],
   "source": [
    "Q=np.fromstring(\"-0.8655 0.121 0.1864 0.337 0.0631 0.158 0.148 -0.8782 0.3739 0.1349 0.0632 0.1582 0.1461 0.2398 -1.0823 0.1333 0.4073 0.1558 0.3692 0.1209 0.1863 -1.0079 0.0947 0.2368 0.1468 0.1203 1.2085 0.201 -1.9125 0.2359 0.1471 0.1205 0.185 0.2012 0.0944 -0.7482\", dtype=float, sep=\" \").reshape(6,6)\n",
    "Q"
   ]
  },
  {
   "cell_type": "markdown",
   "metadata": {},
   "source": [
    "# Below are all the functions that are needed "
   ]
  },
  {
   "cell_type": "code",
   "execution_count": 27,
   "metadata": {},
   "outputs": [],
   "source": [
    "np.random.seed(1)\n",
    "def expected_number_of_transitions_in_time_t_final(array_step, Q):\n",
    "    \"\"\"This function returns a Matrix of the expected number of transitions between states in a given amount of time. \n",
    "    This is a program that was generated from the Minin and Suchard equation. \n",
    "    array_step = the time step. It can be float or int.\n",
    "    Q = The rate matrix. This is the rate matrix that was defined above.\"\"\"\n",
    "    eigenvalue,eigenvector = np.linalg.eig(Q)\n",
    "    eigenvector_inv = np.linalg.inv(eigenvector)\n",
    "    E_n = np.zeros_like(Q)\n",
    "    for i in range(Q.shape[0]):\n",
    "        d_i=eigenvalue[i]\n",
    "        E_i = np.zeros_like(Q)\n",
    "        E_i[i,i]=1\n",
    "        S_i = eigenvector @ E_i @ eigenvector_inv\n",
    "        for j in range(Q.shape[0]):\n",
    "            d_j=eigenvalue[j]\n",
    "            E_j = np.zeros_like(Q)\n",
    "            E_j[j,j]=1\n",
    "            S_j= eigenvector @ E_j @ eigenvector_inv           \n",
    "            if d_i == d_j:\n",
    "                I_ij = array_step * np.exp(d_i*array_step)\n",
    "            else: \n",
    "                I_ij = (np.exp(d_i*array_step) - np.exp(d_j*array_step)) / (d_i - d_j)\n",
    "            N_greek=S_i @ Q @ S_j * I_ij\n",
    "            E_n += N_greek         \n",
    "    return E_n"
   ]
  },
  {
   "cell_type": "code",
   "execution_count": 28,
   "metadata": {},
   "outputs": [],
   "source": [
    "np.random.seed(3)\n",
    "def simulated_number_of_transitions(array_step, first, last, Q):\n",
    "    \"\"\"This function returns a sinlge value for the number of counted transitions between the first and last state in a given amount of time.\n",
    "    The purpose of this function is to get the actual number of transitions in a given time. \n",
    "    The simulation runs through a series of events and records how many times a certain event/series happened.\n",
    "    array_step = time step.\n",
    "    Q = the rate matrix defined earlier in the code.\"\"\"\n",
    "    Q_array=np.array(Q)\n",
    "    Q_exponential=scipy.linalg.expm(Q*1000)\n",
    "    probability_distribution = Q_exponential[0]\n",
    "    transitions=[]\n",
    "    state_amount=Q.shape[0]\n",
    "    for simulation_trials in range(5000):\n",
    "        states=[]\n",
    "        time_passed=0\n",
    "        first_state=np.random.choice(state_amount, 1, p=probability_distribution)\n",
    "        #This is necessary to convert the first_state 'array' into an integer\n",
    "        state=int(\"\".join(map(str, first_state)))\n",
    "        while time_passed < array_step:\n",
    "            new_time = np.random.exponential(1/Q_array[state, (Q_array[state] >= 0)].sum())\n",
    "            time_passed += new_time\n",
    "            new_state = np.random.choice(state_amount, 1, p=probability_distribution)\n",
    "            states.append(new_state)\n",
    "            #This looks at the last state in the array list of states\n",
    "            current_state=states[-1]\n",
    "            if (first_state == first and current_state == last):\n",
    "                transitions.append(states)\n",
    "    return float ((len(transitions))/5000.0)"
   ]
  },
  {
   "cell_type": "code",
   "execution_count": 29,
   "metadata": {},
   "outputs": [],
   "source": [
    "def simulated_Q_Matrix(array_step):\n",
    "    \"\"\"This function returns a Matrix of the actaul number of recorded transitions between states from the simulation.\n",
    "    The purpose of this function is to convert the simulated number of transitions function that's above into a matrix.\n",
    "    array_step = a time step\"\"\"\n",
    "    simulated_Q_array = []\n",
    "    size=Q.shape[0]\n",
    "    for i in range(Q.shape[0]):\n",
    "        first = i\n",
    "        for j in range(Q.shape[0]):\n",
    "            last = j\n",
    "            cell_value = simulated_number_of_transitions(array_step, first, last, Q)\n",
    "            if(first == i and last == j):\n",
    "                simulated_Q_array.append(cell_value)\n",
    "    simulated_Q_matrix = np.reshape(simulated_Q_array, (size,size))\n",
    "    return simulated_Q_matrix"
   ]
  },
  {
   "cell_type": "code",
   "execution_count": 30,
   "metadata": {
    "scrolled": true
   },
   "outputs": [
    {
     "data": {
      "text/plain": [
       "<matplotlib.axes._subplots.AxesSubplot at 0x168ad28ef28>"
      ]
     },
     "execution_count": 30,
     "metadata": {},
     "output_type": "execute_result"
    },
    {
     "data": {
      "image/png": "[encoded data removed]",
      "text/plain": [
       "<Figure size 432x288 with 2 Axes>"
      ]
     },
     "metadata": {
      "needs_background": "light"
     },
     "output_type": "display_data"
    }
   ],
   "source": [
    "difference_in_transitions = simulated_Q_Matrix(1) - expected_number_of_transitions_in_time_t_final(1, Q)\n",
    "sns.heatmap(difference_in_transitions, annot=True)"
   ]
  },
  {
   "cell_type": "markdown",
   "metadata": {},
   "source": [
    "# ALL HEAT MAPS SHOULD HAVE SAME TIME STEP"
   ]
  },
  {
   "cell_type": "markdown",
   "metadata": {},
   "source": [
    "# __________________________________________________________________________________________________________________________ "
   ]
  },
  {
   "cell_type": "markdown",
   "metadata": {},
   "source": [
    "## Simulated Number of Transitions Heat Map \n",
    "### This heatmap should have no negative values. Ignoring the diagonal ii-th entries, the ij-th entries shoud all be reasonably close to the values in the Expected Number of Transitions Heat Map below. To further evaluate how close the values are will be done in a later step."
   ]
  },
  {
   "cell_type": "code",
   "execution_count": 31,
   "metadata": {},
   "outputs": [
    {
     "data": {
      "text/plain": [
       "<matplotlib.axes._subplots.AxesSubplot at 0x168ae36e278>"
      ]
     },
     "execution_count": 31,
     "metadata": {},
     "output_type": "execute_result"
    },
    {
     "data": {
      "image/png": "[encoded data removed]",
      "text/plain": [
       "<Figure size 432x288 with 2 Axes>"
      ]
     },
     "metadata": {
      "needs_background": "light"
     },
     "output_type": "display_data"
    }
   ],
   "source": [
    "sns.heatmap(simulated_Q_Matrix(1), vmin=-0.20, vmax=0.08, annot=True, )"
   ]
  },
  {
   "cell_type": "markdown",
   "metadata": {},
   "source": [
    "## Expected Number of Transitions Heat Map\n",
    "### This heat map should have negatives on the diagonal (the ii-th entries). These values are the number of transitions FROM that state. So if you were to add up all the rows they should add up to zero across. If there are negatives in any of the ij-th entries, then there may be an issue in the Q Matrix that was entered into the function, the time step is too large, or it's just noise from the calculataions and you can ignore it for the time being. Not quite sure what all reasons could cause this phenomena or how to solve such issues, but it is ok to proceed with the remaining steps."
   ]
  },
  {
   "cell_type": "code",
   "execution_count": 32,
   "metadata": {},
   "outputs": [
    {
     "data": {
      "text/plain": [
       "<matplotlib.axes._subplots.AxesSubplot at 0x168ae43f0b8>"
      ]
     },
     "execution_count": 32,
     "metadata": {},
     "output_type": "execute_result"
    },
    {
     "data": {
      "image/png": "[encoded data removed]",
      "text/plain": [
       "<Figure size 432x288 with 2 Axes>"
      ]
     },
     "metadata": {
      "needs_background": "light"
     },
     "output_type": "display_data"
    }
   ],
   "source": [
    "sns.heatmap(expected_number_of_transitions_in_time_t_final(1, Q), annot=True)"
   ]
  },
  {
   "cell_type": "markdown",
   "metadata": {},
   "source": [
    "## The Difference of Simulated and Expected Number of Transitions Heat Map\n",
    "### This heat map should be relatively light colored on the ii-th entry diagonals since the Simulated Heat Map should be producing only positive values and the Expected Heat Map should have negatives along the ii-th entry diagonal. The rest of the cells should be quite dark, signaling that the two matrices are similar since their difference are nearly zero. If the cells are all light colored, the implementation of the equation is not useful for this time step, or the simulation is not accurate to this time step. This is the motivation for the following code that tests how close the simulation and expectations from the equation are. It helps determine what time steps produce the most accurate measurements. "
   ]
  },
  {
   "cell_type": "code",
   "execution_count": 33,
   "metadata": {},
   "outputs": [
    {
     "data": {
      "text/plain": [
       "<matplotlib.axes._subplots.AxesSubplot at 0x168ae4edf60>"
      ]
     },
     "execution_count": 33,
     "metadata": {},
     "output_type": "execute_result"
    },
    {
     "data": {
      "image/png": "[encoded data removed]",
      "text/plain": [
       "<Figure size 432x288 with 2 Axes>"
      ]
     },
     "metadata": {
      "needs_background": "light"
     },
     "output_type": "display_data"
    }
   ],
   "source": [
    "difference_in_transitions = simulated_Q_Matrix(1) - expected_number_of_transitions_in_time_t_final(1, Q)\n",
    "sns.heatmap(difference_in_transitions, annot=True)"
   ]
  },
  {
   "cell_type": "markdown",
   "metadata": {},
   "source": [
    "## The Difference Data Frame\n",
    "### I found the difference of the two matrices (simulated number of transitions and expected number of transitions) and converted the data of the differences over certain lengths of time into a Data Frame. The point of forming the data frame was to create a graph to better visualize the closeness of the values in the matrices."
   ]
  },
  {
   "cell_type": "code",
   "execution_count": 34,
   "metadata": {},
   "outputs": [
    {
     "data": {
      "text/html": [
       "<div>\n",
       "<style scoped>\n",
       "    .dataframe tbody tr th:only-of-type {\n",
       "        vertical-align: middle;\n",
       "    }\n",
       "\n",
       "    .dataframe tbody tr th {\n",
       "        vertical-align: top;\n",
       "    }\n",
       "\n",
       "    .dataframe thead th {\n",
       "        text-align: right;\n",
       "    }\n",
       "</style>\n",
       "<table border=\"1\" class=\"dataframe\">\n",
       "  <thead>\n",
       "    <tr style=\"text-align: right;\">\n",
       "      <th></th>\n",
       "      <th>Time</th>\n",
       "      <th>Start State</th>\n",
       "      <th>End State</th>\n",
       "      <th>Difference</th>\n",
       "      <th>cell</th>\n",
       "    </tr>\n",
       "  </thead>\n",
       "  <tbody>\n",
       "    <tr>\n",
       "      <th>0</th>\n",
       "      <td>0.1</td>\n",
       "      <td>[0]</td>\n",
       "      <td>[0]</td>\n",
       "      <td>0.116160</td>\n",
       "      <td>ii_entry</td>\n",
       "    </tr>\n",
       "    <tr>\n",
       "      <th>1</th>\n",
       "      <td>0.1</td>\n",
       "      <td>[0]</td>\n",
       "      <td>[1]</td>\n",
       "      <td>0.012050</td>\n",
       "      <td>ij_entry</td>\n",
       "    </tr>\n",
       "    <tr>\n",
       "      <th>2</th>\n",
       "      <td>0.1</td>\n",
       "      <td>[0]</td>\n",
       "      <td>[2]</td>\n",
       "      <td>0.029195</td>\n",
       "      <td>ij_entry</td>\n",
       "    </tr>\n",
       "    <tr>\n",
       "      <th>3</th>\n",
       "      <td>0.1</td>\n",
       "      <td>[0]</td>\n",
       "      <td>[3]</td>\n",
       "      <td>0.003572</td>\n",
       "      <td>ij_entry</td>\n",
       "    </tr>\n",
       "    <tr>\n",
       "      <th>4</th>\n",
       "      <td>0.1</td>\n",
       "      <td>[0]</td>\n",
       "      <td>[4]</td>\n",
       "      <td>0.007330</td>\n",
       "      <td>ij_entry</td>\n",
       "    </tr>\n",
       "    <tr>\n",
       "      <th>5</th>\n",
       "      <td>0.1</td>\n",
       "      <td>[0]</td>\n",
       "      <td>[5]</td>\n",
       "      <td>0.026893</td>\n",
       "      <td>ij_entry</td>\n",
       "    </tr>\n",
       "    <tr>\n",
       "      <th>6</th>\n",
       "      <td>0.1</td>\n",
       "      <td>[1]</td>\n",
       "      <td>[0]</td>\n",
       "      <td>0.017762</td>\n",
       "      <td>ij_entry</td>\n",
       "    </tr>\n",
       "    <tr>\n",
       "      <th>7</th>\n",
       "      <td>0.1</td>\n",
       "      <td>[1]</td>\n",
       "      <td>[1]</td>\n",
       "      <td>0.098079</td>\n",
       "      <td>ii_entry</td>\n",
       "    </tr>\n",
       "    <tr>\n",
       "      <th>8</th>\n",
       "      <td>0.1</td>\n",
       "      <td>[1]</td>\n",
       "      <td>[2]</td>\n",
       "      <td>0.000524</td>\n",
       "      <td>ij_entry</td>\n",
       "    </tr>\n",
       "    <tr>\n",
       "      <th>9</th>\n",
       "      <td>0.1</td>\n",
       "      <td>[1]</td>\n",
       "      <td>[3]</td>\n",
       "      <td>0.012566</td>\n",
       "      <td>ij_entry</td>\n",
       "    </tr>\n",
       "  </tbody>\n",
       "</table>\n",
       "</div>"
      ],
      "text/plain": [
       "   Time Start State End State  Difference      cell\n",
       "0   0.1         [0]       [0]    0.116160  ii_entry\n",
       "1   0.1         [0]       [1]    0.012050  ij_entry\n",
       "2   0.1         [0]       [2]    0.029195  ij_entry\n",
       "3   0.1         [0]       [3]    0.003572  ij_entry\n",
       "4   0.1         [0]       [4]    0.007330  ij_entry\n",
       "5   0.1         [0]       [5]    0.026893  ij_entry\n",
       "6   0.1         [1]       [0]    0.017762  ij_entry\n",
       "7   0.1         [1]       [1]    0.098079  ii_entry\n",
       "8   0.1         [1]       [2]    0.000524  ij_entry\n",
       "9   0.1         [1]       [3]    0.012566  ij_entry"
      ]
     },
     "execution_count": 34,
     "metadata": {},
     "output_type": "execute_result"
    }
   ],
   "source": [
    "data_matrix = []\n",
    "array = np.arange(0.1, 2, 0.1)\n",
    "for t in array:\n",
    "    array_step = t\n",
    "    difference_in_transitions = simulated_Q_Matrix(array_step) - expected_number_of_transitions_in_time_t_final(array_step, Q)\n",
    "    for i in range(Q.shape[0]):\n",
    "        for j in range(Q.shape[0]):\n",
    "            #This step is necessary to help distinguish the two main patterns in the graph: ii-th entries and ij-th entries\n",
    "            diagonal = \"ii_entry\"\n",
    "            if(i == j):\n",
    "                diagonal = \"ii_entry\"\n",
    "            else:\n",
    "                diagonal = \"ij_entry\"\n",
    "            data_values = {'Time': array_step, 'Start State': [i], 'End State': [j], 'Difference': difference_in_transitions[i,j],'cell': diagonal}\n",
    "            data_matrix.append(data_values)\n",
    "difference_df= pd.DataFrame(data=data_matrix, columns=['Time','Start State','End State','Difference', 'cell'])\n",
    "difference_df[0:10]"
   ]
  },
  {
   "cell_type": "markdown",
   "metadata": {},
   "source": [
    "## Scatter Plot of the Difference Between the Simulated and Expected Number of Transitions\n",
    "### Ignore the blue dots as they are the differences between the ii-th entries of the two matrices and as stated earlier, are expected to be high. The orange dots however should be clustered along the line of a difference of zero. It is ok if there is an increase of difference as time gets smaller or larger as this could be due to the limits of the simulation. There may be outlying patterns that do not fall in the general pattern of the ii-th entries (clustered along high differences) or of the majority of the ij-th entries (clustered along a difference of 0). This may be due to the noise of the random function and possible inaccuracies in both matrices in given time steps. "
   ]
  },
  {
   "cell_type": "code",
   "execution_count": 35,
   "metadata": {},
   "outputs": [
    {
     "data": {
      "application/vnd.vegalite.v2+json": {
       "$schema": "https://vega.github.io/schema/vega-lite/v2.6.0.json",
       "config": {
        "view": {
         "height": 300,
         "width": 400
        }
       },
       "data": {
        "name": "data-40f9eb70d3932b8c166e181885a459c9"
       },
       "datasets": {
        "data-40f9eb70d3932b8c166e181885a459c9": [
         {
          "Difference": 0.11615991502484402,
          "End State": [
           0
          ],
          "Start State": [
           0
          ],
          "Time": 0.1,
          "cell": "ii_entry"
         },
         {
          "Difference": 0.012049636734459072,
          "End State": [
           1
          ],
          "Start State": [
           0
          ],
          "Time": 0.1,
          "cell": "ij_entry"
         },
         {
          "Difference": 0.029194871814714085,
          "End State": [
           2
          ],
          "Start State": [
           0
          ],
          "Time": 0.1,
          "cell": "ij_entry"
         },
         {
          "Difference": 0.00357237685069867,
          "End State": [
           3
          ],
          "Start State": [
           0
          ],
          "Time": 0.1,
          "cell": "ij_entry"
         },
         {
          "Difference": 0.007330150167587443,
          "End State": [
           4
          ],
          "Start State": [
           0
          ],
          "Time": 0.1,
          "cell": "ij_entry"
         },
         {
          "Difference": 0.026893049407696726,
          "End State": [
           5
          ],
          "Start State": [
           0
          ],
          "Time": 0.1,
          "cell": "ij_entry"
         },
         {
          "Difference": 0.017762429460920503,
          "End State": [
           0
          ],
          "Start State": [
           1
          ],
          "Time": 0.1,
          "cell": "ij_entry"
         },
         {
          "Difference": 0.09807905779043526,
          "End State": [
           1
          ],
          "Start State": [
           1
          ],
          "Time": 0.1,
          "cell": "ii_entry"
         },
         {
          "Difference": 0.0005241757713419018,
          "End State": [
           2
          ],
          "Start State": [
           1
          ],
          "Time": 0.1,
          "cell": "ij_entry"
         },
         {
          "Difference": 0.01256607569128546,
          "End State": [
           3
          ],
          "Start State": [
           1
          ],
          "Time": 0.1,
          "cell": "ij_entry"
         },
         {
          "Difference": 0.0072536371868091275,
          "End State": [
           4
          ],
          "Start State": [
           1
          ],
          "Time": 0.1,
          "cell": "ij_entry"
         },
         {
          "Difference": 0.014614624099207761,
          "End State": [
           5
          ],
          "Start State": [
           1
          ],
          "Time": 0.1,
          "cell": "ij_entry"
         },
         {
          "Difference": 0.030914087021067606,
          "End State": [
           0
          ],
          "Start State": [
           2
          ],
          "Time": 0.1,
          "cell": "ij_entry"
         },
         {
          "Difference": 0.025428244620863676,
          "End State": [
           1
          ],
          "Start State": [
           2
          ],
          "Time": 0.1,
          "cell": "ij_entry"
         },
         {
          "Difference": 0.15036255535979617,
          "End State": [
           2
          ],
          "Start State": [
           2
          ],
          "Time": 0.1,
          "cell": "ii_entry"
         },
         {
          "Difference": 0.03251183982306433,
          "End State": [
           3
          ],
          "Start State": [
           2
          ],
          "Time": 0.1,
          "cell": "ij_entry"
         },
         {
          "Difference": -0.010005255294798659,
          "End State": [
           4
          ],
          "Start State": [
           2
          ],
          "Time": 0.1,
          "cell": "ij_entry"
         },
         {
          "Difference": 0.03398852847000689,
          "End State": [
           5
          ],
          "Start State": [
           2
          ],
          "Time": 0.1,
          "cell": "ij_entry"
         },
         {
          "Difference": -0.001363151050194883,
          "End State": [
           0
          ],
          "Start State": [
           3
          ],
          "Time": 0.1,
          "cell": "ij_entry"
         },
         {
          "Difference": 0.013456512457737038,
          "End State": [
           1
          ],
          "Start State": [
           3
          ],
          "Time": 0.1,
          "cell": "ij_entry"
         },
         {
          "Difference": 0.026946356680506576,
          "End State": [
           2
          ],
          "Start State": [
           3
          ],
          "Time": 0.1,
          "cell": "ij_entry"
         },
         {
          "Difference": 0.11846420695936205,
          "End State": [
           3
          ],
          "Start State": [
           3
          ],
          "Time": 0.1,
          "cell": "ii_entry"
         },
         {
          "Difference": 0.0088727368137581,
          "End State": [
           4
          ],
          "Start State": [
           3
          ],
          "Time": 0.1,
          "cell": "ij_entry"
         },
         {
          "Difference": 0.016023338138831097,
          "End State": [
           5
          ],
          "Start State": [
           3
          ],
          "Time": 0.1,
          "cell": "ij_entry"
         },
         {
          "Difference": 0.004144719770841734,
          "End State": [
           0
          ],
          "Start State": [
           4
          ],
          "Time": 0.1,
          "cell": "ij_entry"
         },
         {
          "Difference": 0.0025207707558139707,
          "End State": [
           1
          ],
          "Start State": [
           4
          ],
          "Time": 0.1,
          "cell": "ij_entry"
         },
         {
          "Difference": -0.07141558510824342,
          "End State": [
           2
          ],
          "Start State": [
           4
          ],
          "Time": 0.1,
          "cell": "ij_entry"
         },
         {
          "Difference": -0.0014508291744951933,
          "End State": [
           3
          ],
          "Start State": [
           4
          ],
          "Time": 0.1,
          "cell": "ij_entry"
         },
         {
          "Difference": 0.1605889160810854,
          "End State": [
           4
          ],
          "Start State": [
           4
          ],
          "Time": 0.1,
          "cell": "ii_entry"
         },
         {
          "Difference": -0.0019879923250024703,
          "End State": [
           5
          ],
          "Start State": [
           4
          ],
          "Time": 0.1,
          "cell": "ij_entry"
         },
         {
          "Difference": 0.021907737059865935,
          "End State": [
           0
          ],
          "Start State": [
           5
          ],
          "Time": 0.1,
          "cell": "ij_entry"
         },
         {
          "Difference": 0.02269065411242873,
          "End State": [
           1
          ],
          "Start State": [
           5
          ],
          "Time": 0.1,
          "cell": "ij_entry"
         },
         {
          "Difference": 0.029849931538320808,
          "End State": [
           2
          ],
          "Start State": [
           5
          ],
          "Time": 0.1,
          "cell": "ij_entry"
         },
         {
          "Difference": 0.01577687662447728,
          "End State": [
           3
          ],
          "Start State": [
           5
          ],
          "Time": 0.1,
          "cell": "ij_entry"
         },
         {
          "Difference": 0.008041242231619063,
          "End State": [
           4
          ],
          "Start State": [
           5
          ],
          "Time": 0.1,
          "cell": "ij_entry"
         },
         {
          "Difference": 0.10353355843328815,
          "End State": [
           5
          ],
          "Start State": [
           5
          ],
          "Time": 0.1,
          "cell": "ii_entry"
         },
         {
          "Difference": 0.17426993819725303,
          "End State": [
           0
          ],
          "Start State": [
           0
          ],
          "Time": 0.2,
          "cell": "ii_entry"
         },
         {
          "Difference": 0.009848812258278664,
          "End State": [
           1
          ],
          "Start State": [
           0
          ],
          "Time": 0.2,
          "cell": "ij_entry"
         },
         {
          "Difference": 0.018631900074660465,
          "End State": [
           2
          ],
          "Start State": [
           0
          ],
          "Time": 0.2,
          "cell": "ij_entry"
         },
         {
          "Difference": -0.012711985457858226,
          "End State": [
           3
          ],
          "Start State": [
           0
          ],
          "Time": 0.2,
          "cell": "ij_entry"
         },
         {
          "Difference": 0.007101720162594111,
          "End State": [
           4
          ],
          "Start State": [
           0
          ],
          "Time": 0.2,
          "cell": "ij_entry"
         },
         {
          "Difference": 0.010859614765071978,
          "End State": [
           5
          ],
          "Start State": [
           0
          ],
          "Time": 0.2,
          "cell": "ij_entry"
         },
         {
          "Difference": 0.007466217599541455,
          "End State": [
           0
          ],
          "Start State": [
           1
          ],
          "Time": 0.2,
          "cell": "ij_entry"
         },
         {
          "Difference": 0.1716494739560147,
          "End State": [
           1
          ],
          "Start State": [
           1
          ],
          "Time": 0.2,
          "cell": "ii_entry"
         },
         {
          "Difference": -0.01886965610053659,
          "End State": [
           2
          ],
          "Start State": [
           1
          ],
          "Time": 0.2,
          "cell": "ij_entry"
         },
         {
          "Difference": 0.005872911681277487,
          "End State": [
           3
          ],
          "Start State": [
           1
          ],
          "Time": 0.2,
          "cell": "ij_entry"
         },
         {
          "Difference": 0.00018269546769467127,
          "End State": [
           4
          ],
          "Start State": [
           1
          ],
          "Time": 0.2,
          "cell": "ij_entry"
         },
         {
          "Difference": 0.011298357396008266,
          "End State": [
           5
          ],
          "Start State": [
           1
          ],
          "Time": 0.2,
          "cell": "ij_entry"
         },
         {
          "Difference": 0.02949825571779327,
          "End State": [
           0
          ],
          "Start State": [
           2
          ],
          "Time": 0.2,
          "cell": "ij_entry"
         },
         {
          "Difference": 0.0034812565150524055,
          "End State": [
           1
          ],
          "Start State": [
           2
          ],
          "Time": 0.2,
          "cell": "ij_entry"
         },
         {
          "Difference": 0.22561882308841025,
          "End State": [
           2
          ],
          "Start State": [
           2
          ],
          "Time": 0.2,
          "cell": "ii_entry"
         },
         {
          "Difference": 0.02489704936443389,
          "End State": [
           3
          ],
          "Start State": [
           2
          ],
          "Time": 0.2,
          "cell": "ij_entry"
         },
         {
          "Difference": -0.021796407730893357,
          "End State": [
           4
          ],
          "Start State": [
           2
          ],
          "Time": 0.2,
          "cell": "ij_entry"
         },
         {
          "Difference": 0.035301023045203564,
          "End State": [
           5
          ],
          "Start State": [
           2
          ],
          "Time": 0.2,
          "cell": "ij_entry"
         },
         {
          "Difference": -0.013947928234038169,
          "End State": [
           0
          ],
          "Start State": [
           3
          ],
          "Time": 0.2,
          "cell": "ij_entry"
         },
         {
          "Difference": 0.008852408508053262,
          "End State": [
           1
          ],
          "Start State": [
           3
          ],
          "Time": 0.2,
          "cell": "ij_entry"
         },
         {
          "Difference": 0.0114311982421526,
          "End State": [
           2
          ],
          "Start State": [
           3
          ],
          "Time": 0.2,
          "cell": "ij_entry"
         },
         {
          "Difference": 0.1926531542086658,
          "End State": [
           3
          ],
          "Start State": [
           3
          ],
          "Time": 0.2,
          "cell": "ii_entry"
         },
         {
          "Difference": -0.0010256969847673922,
          "End State": [
           4
          ],
          "Start State": [
           3
          ],
          "Time": 0.2,
          "cell": "ij_entry"
         },
         {
          "Difference": 0.003436864259933878,
          "End State": [
           5
          ],
          "Start State": [
           3
          ],
          "Time": 0.2,
          "cell": "ij_entry"
         },
         {
          "Difference": -0.004352082078981346,
          "End State": [
           0
          ],
          "Start State": [
           4
          ],
          "Time": 0.2,
          "cell": "ij_entry"
         },
         {
          "Difference": -0.00943286697171469,
          "End State": [
           1
          ],
          "Start State": [
           4
          ],
          "Time": 0.2,
          "cell": "ij_entry"
         },
         {
          "Difference": -0.1059159067132899,
          "End State": [
           2
          ],
          "Start State": [
           4
          ],
          "Time": 0.2,
          "cell": "ij_entry"
         },
         {
          "Difference": -0.014572089462939865,
          "End State": [
           3
          ],
          "Start State": [
           4
          ],
          "Time": 0.2,
          "cell": "ij_entry"
         },
         {
          "Difference": 0.2550732643789314,
          "End State": [
           4
          ],
          "Start State": [
           4
          ],
          "Time": 0.2,
          "cell": "ii_entry"
         },
         {
          "Difference": -0.014600319152005742,
          "End State": [
           5
          ],
          "Start State": [
           4
          ],
          "Time": 0.2,
          "cell": "ij_entry"
         },
         {
          "Difference": 0.012546092624153116,
          "End State": [
           0
          ],
          "Start State": [
           5
          ],
          "Time": 0.2,
          "cell": "ij_entry"
         },
         {
          "Difference": 0.009910084763322533,
          "End State": [
           1
          ],
          "Start State": [
           5
          ],
          "Time": 0.2,
          "cell": "ij_entry"
         },
         {
          "Difference": 0.017384213765029535,
          "End State": [
           2
          ],
          "Start State": [
           5
          ],
          "Time": 0.2,
          "cell": "ij_entry"
         },
         {
          "Difference": 0.009023713674096608,
          "End State": [
           3
          ],
          "Start State": [
           5
          ],
          "Time": 0.2,
          "cell": "ij_entry"
         },
         {
          "Difference": 0.007833504348798658,
          "End State": [
           4
          ],
          "Start State": [
           5
          ],
          "Time": 0.2,
          "cell": "ij_entry"
         },
         {
          "Difference": 0.1701023908245995,
          "End State": [
           5
          ],
          "Start State": [
           5
          ],
          "Time": 0.2,
          "cell": "ii_entry"
         },
         {
          "Difference": 0.22450531213673708,
          "End State": [
           0
          ],
          "Start State": [
           0
          ],
          "Time": 0.30000000000000004,
          "cell": "ii_entry"
         },
         {
          "Difference": 0.004390635420281803,
          "End State": [
           1
          ],
          "Start State": [
           0
          ],
          "Time": 0.30000000000000004,
          "cell": "ij_entry"
         },
         {
          "Difference": 0.008200720415652014,
          "End State": [
           2
          ],
          "Start State": [
           0
          ],
          "Time": 0.30000000000000004,
          "cell": "ij_entry"
         },
         {
          "Difference": -0.021277577833502766,
          "End State": [
           3
          ],
          "Start State": [
           0
          ],
          "Time": 0.30000000000000004,
          "cell": "ij_entry"
         },
         {
          "Difference": 0.005250602660013724,
          "End State": [
           4
          ],
          "Start State": [
           0
          ],
          "Time": 0.30000000000000004,
          "cell": "ij_entry"
         },
         {
          "Difference": -0.00046969279918179785,
          "End State": [
           5
          ],
          "Start State": [
           0
          ],
          "Time": 0.30000000000000004,
          "cell": "ij_entry"
         },
         {
          "Difference": 0.0012578585337707088,
          "End State": [
           0
          ],
          "Start State": [
           1
          ],
          "Time": 0.30000000000000004,
          "cell": "ij_entry"
         },
         {
          "Difference": 0.22029408182330573,
          "End State": [
           1
          ],
          "Start State": [
           1
          ],
          "Time": 0.30000000000000004,
          "cell": "ii_entry"
         },
         {
          "Difference": -0.02854106906574349,
          "End State": [
           2
          ],
          "Start State": [
           1
          ],
          "Time": 0.30000000000000004,
          "cell": "ij_entry"
         },
         {
          "Difference": -0.0007127712779855522,
          "End State": [
           3
          ],
          "Start State": [
           1
          ],
          "Time": 0.30000000000000004,
          "cell": "ij_entry"
         },
         {
          "Difference": -0.0038768011728961636,
          "End State": [
           4
          ],
          "Start State": [
           1
          ],
          "Time": 0.30000000000000004,
          "cell": "ij_entry"
         },
         {
          "Difference": 0.0011787011595487396,
          "End State": [
           5
          ],
          "Start State": [
           1
          ],
          "Time": 0.30000000000000004,
          "cell": "ij_entry"
         },
         {
          "Difference": 0.026309587044046255,
          "End State": [
           0
          ],
          "Start State": [
           2
          ],
          "Time": 0.30000000000000004,
          "cell": "ij_entry"
         },
         {
          "Difference": -0.0008977042461487464,
          "End State": [
           1
          ],
          "Start State": [
           2
          ],
          "Time": 0.30000000000000004,
          "cell": "ij_entry"
         },
         {
          "Difference": 0.2654543973359699,
          "End State": [
           2
          ],
          "Start State": [
           2
          ],
          "Time": 0.30000000000000004,
          "cell": "ii_entry"
         },
         {
          "Difference": 0.01969700371924843,
          "End State": [
           3
          ],
          "Start State": [
           2
          ],
          "Time": 0.30000000000000004,
          "cell": "ij_entry"
         },
         {
          "Difference": -0.029234933363377222,
          "End State": [
           4
          ],
          "Start State": [
           2
          ],
          "Time": 0.30000000000000004,
          "cell": "ij_entry"
         },
         {
          "Difference": 0.02087164951026138,
          "End State": [
           5
          ],
          "Start State": [
           2
          ],
          "Time": 0.30000000000000004,
          "cell": "ij_entry"
         },
         {
          "Difference": -0.027153050672569873,
          "End State": [
           0
          ],
          "Start State": [
           3
          ],
          "Time": 0.30000000000000004,
          "cell": "ij_entry"
         },
         {
          "Difference": 0.0001785777034886485,
          "End State": [
           1
          ],
          "Start State": [
           3
          ],
          "Time": 0.30000000000000004,
          "cell": "ij_entry"
         },
         {
          "Difference": -0.0006272171718789063,
          "End State": [
           2
          ],
          "Start State": [
           3
          ],
          "Time": 0.30000000000000004,
          "cell": "ij_entry"
         },
         {
          "Difference": 0.24423135121526163,
          "End State": [
           3
          ],
          "Start State": [
           3
          ],
          "Time": 0.30000000000000004,
          "cell": "ii_entry"
         },
         {
          "Difference": -0.0034504567041584756,
          "End State": [
           4
          ],
          "Start State": [
           3
          ],
          "Time": 0.30000000000000004,
          "cell": "ij_entry"
         },
         {
          "Difference": -0.011779204370143133,
          "End State": [
           5
          ],
          "Start State": [
           3
          ],
          "Time": 0.30000000000000004,
          "cell": "ij_entry"
         },
         {
          "Difference": -0.011440111367197844,
          "End State": [
           0
          ],
          "Start State": [
           4
          ],
          "Time": 0.30000000000000004,
          "cell": "ij_entry"
         },
         {
          "Difference": -0.012621952047430416,
          "End State": [
           1
          ],
          "Start State": [
           4
          ],
          "Time": 0.30000000000000004,
          "cell": "ij_entry"
         },
         {
          "Difference": -0.11790560988747117,
          "End State": [
           2
          ],
          "Start State": [
           4
          ],
          "Time": 0.30000000000000004,
          "cell": "ij_entry"
         },
         {
          "Difference": -0.017741574811292248,
          "End State": [
           3
          ],
          "Start State": [
           4
          ],
          "Time": 0.30000000000000004,
          "cell": "ij_entry"
         },
         {
          "Difference": 0.3104094300830434,
          "End State": [
           4
          ],
          "Start State": [
           4
          ],
          "Time": 0.30000000000000004,
          "cell": "ii_entry"
         },
         {
          "Difference": -0.020500181969651785,
          "End State": [
           5
          ],
          "Start State": [
           4
          ],
          "Time": 0.30000000000000004,
          "cell": "ij_entry"
         },
         {
          "Difference": 0.006557312752274412,
          "End State": [
           0
          ],
          "Start State": [
           5
          ],
          "Time": 0.30000000000000004,
          "cell": "ij_entry"
         },
         {
          "Difference": 0.00585061690498772,
          "End State": [
           1
          ],
          "Start State": [
           5
          ],
          "Time": 0.30000000000000004,
          "cell": "ij_entry"
         },
         {
          "Difference": 0.014324720509917198,
          "End State": [
           2
          ],
          "Start State": [
           5
          ],
          "Time": 0.30000000000000004,
          "cell": "ij_entry"
         },
         {
          "Difference": 0.0012439924623966342,
          "End State": [
           3
          ],
          "Start State": [
           5
          ],
          "Time": 0.30000000000000004,
          "cell": "ij_entry"
         },
         {
          "Difference": -0.001328648319680499,
          "End State": [
           4
          ],
          "Start State": [
           5
          ],
          "Time": 0.30000000000000004,
          "cell": "ij_entry"
         },
         {
          "Difference": 0.21295200569010447,
          "End State": [
           5
          ],
          "Start State": [
           5
          ],
          "Time": 0.30000000000000004,
          "cell": "ii_entry"
         },
         {
          "Difference": 0.2668627884078652,
          "End State": [
           0
          ],
          "Start State": [
           0
          ],
          "Time": 0.4,
          "cell": "ii_entry"
         },
         {
          "Difference": 0.003090018508725416,
          "End State": [
           1
          ],
          "Start State": [
           0
          ],
          "Time": 0.4,
          "cell": "ij_entry"
         },
         {
          "Difference": -0.004572764688609697,
          "End State": [
           2
          ],
          "Start State": [
           0
          ],
          "Time": 0.4,
          "cell": "ij_entry"
         },
         {
          "Difference": -0.028626262891813158,
          "End State": [
           3
          ],
          "Start State": [
           0
          ],
          "Time": 0.4,
          "cell": "ij_entry"
         },
         {
          "Difference": 0.0009085570333867178,
          "End State": [
           4
          ],
          "Start State": [
           0
          ],
          "Time": 0.4,
          "cell": "ij_entry"
         },
         {
          "Difference": -0.0006623363695545184,
          "End State": [
           5
          ],
          "Start State": [
           0
          ],
          "Time": 0.4,
          "cell": "ij_entry"
         },
         {
          "Difference": -0.00728939170680816,
          "End State": [
           0
          ],
          "Start State": [
           1
          ],
          "Time": 0.4,
          "cell": "ij_entry"
         },
         {
          "Difference": 0.26386642140167593,
          "End State": [
           1
          ],
          "Start State": [
           1
          ],
          "Time": 0.4,
          "cell": "ii_entry"
         },
         {
          "Difference": -0.037450392674926454,
          "End State": [
           2
          ],
          "Start State": [
           1
          ],
          "Time": 0.4,
          "cell": "ij_entry"
         },
         {
          "Difference": -0.004396386043492802,
          "End State": [
           3
          ],
          "Start State": [
           1
          ],
          "Time": 0.4,
          "cell": "ij_entry"
         },
         {
          "Difference": -0.008145928658925595,
          "End State": [
           4
          ],
          "Start State": [
           1
          ],
          "Time": 0.4,
          "cell": "ij_entry"
         },
         {
          "Difference": -0.00918432231752287,
          "End State": [
           5
          ],
          "Start State": [
           1
          ],
          "Time": 0.4,
          "cell": "ij_entry"
         },
         {
          "Difference": 0.016333490738622808,
          "End State": [
           0
          ],
          "Start State": [
           2
          ],
          "Time": 0.4,
          "cell": "ij_entry"
         },
         {
          "Difference": 0.0024906573330935808,
          "End State": [
           1
          ],
          "Start State": [
           2
          ],
          "Time": 0.4,
          "cell": "ij_entry"
         },
         {
          "Difference": 0.3093829860217959,
          "End State": [
           2
          ],
          "Start State": [
           2
          ],
          "Time": 0.4,
          "cell": "ii_entry"
         },
         {
          "Difference": 0.01321333767213799,
          "End State": [
           3
          ],
          "Start State": [
           2
          ],
          "Time": 0.4,
          "cell": "ij_entry"
         },
         {
          "Difference": -0.020012012807687513,
          "End State": [
           4
          ],
          "Start State": [
           2
          ],
          "Time": 0.4,
          "cell": "ij_entry"
         },
         {
          "Difference": 0.024391541042037272,
          "End State": [
           5
          ],
          "Start State": [
           2
          ],
          "Time": 0.4,
          "cell": "ij_entry"
         },
         {
          "Difference": -0.03902380489617729,
          "End State": [
           0
          ],
          "Start State": [
           3
          ],
          "Time": 0.4,
          "cell": "ij_entry"
         },
         {
          "Difference": 0.004050899616109292,
          "End State": [
           1
          ],
          "Start State": [
           3
          ],
          "Time": 0.4,
          "cell": "ij_entry"
         },
         {
          "Difference": -0.001766251743489565,
          "End State": [
           2
          ],
          "Start State": [
           3
          ],
          "Time": 0.4,
          "cell": "ij_entry"
         },
         {
          "Difference": 0.28307769013447864,
          "End State": [
           3
          ],
          "Start State": [
           3
          ],
          "Time": 0.4,
          "cell": "ii_entry"
         },
         {
          "Difference": -0.0012181550348206206,
          "End State": [
           4
          ],
          "Start State": [
           3
          ],
          "Time": 0.4,
          "cell": "ij_entry"
         },
         {
          "Difference": -0.013120378076100538,
          "End State": [
           5
          ],
          "Start State": [
           3
          ],
          "Time": 0.4,
          "cell": "ij_entry"
         },
         {
          "Difference": -0.022478487196425683,
          "End State": [
           0
          ],
          "Start State": [
           4
          ],
          "Time": 0.4,
          "cell": "ij_entry"
         },
         {
          "Difference": -0.02350634921313941,
          "End State": [
           1
          ],
          "Start State": [
           4
          ],
          "Time": 0.4,
          "cell": "ij_entry"
         },
         {
          "Difference": -0.10493015043917167,
          "End State": [
           2
          ],
          "Start State": [
           4
          ],
          "Time": 0.4,
          "cell": "ij_entry"
         },
         {
          "Difference": -0.02284318788582437,
          "End State": [
           3
          ],
          "Start State": [
           4
          ],
          "Time": 0.4,
          "cell": "ij_entry"
         },
         {
          "Difference": 0.3318087710266994,
          "End State": [
           4
          ],
          "Start State": [
           4
          ],
          "Time": 0.4,
          "cell": "ii_entry"
         },
         {
          "Difference": -0.02625059629213837,
          "End State": [
           5
          ],
          "Start State": [
           4
          ],
          "Time": 0.4,
          "cell": "ij_entry"
         },
         {
          "Difference": 0.005785446621003026,
          "End State": [
           0
          ],
          "Start State": [
           5
          ],
          "Time": 0.4,
          "cell": "ij_entry"
         },
         {
          "Difference": -7.063396736685379e-05,
          "End State": [
           1
          ],
          "Start State": [
           5
          ],
          "Time": 0.4,
          "cell": "ij_entry"
         },
         {
          "Difference": -0.00045777542192664,
          "End State": [
           2
          ],
          "Start State": [
           5
          ],
          "Time": 0.4,
          "cell": "ij_entry"
         },
         {
          "Difference": -0.007553218172855598,
          "End State": [
           3
          ],
          "Start State": [
           5
          ],
          "Time": 0.4,
          "cell": "ij_entry"
         },
         {
          "Difference": -0.00623054083827063,
          "End State": [
           4
          ],
          "Start State": [
           5
          ],
          "Time": 0.4,
          "cell": "ij_entry"
         },
         {
          "Difference": 0.2541267217794166,
          "End State": [
           5
          ],
          "Start State": [
           5
          ],
          "Time": 0.4,
          "cell": "ii_entry"
         },
         {
          "Difference": 0.30001413446695746,
          "End State": [
           0
          ],
          "Start State": [
           0
          ],
          "Time": 0.5,
          "cell": "ii_entry"
         },
         {
          "Difference": -0.0030184365641353975,
          "End State": [
           1
          ],
          "Start State": [
           0
          ],
          "Time": 0.5,
          "cell": "ij_entry"
         },
         {
          "Difference": -0.004331654953019529,
          "End State": [
           2
          ],
          "Start State": [
           0
          ],
          "Time": 0.5,
          "cell": "ij_entry"
         },
         {
          "Difference": -0.02798933474314514,
          "End State": [
           3
          ],
          "Start State": [
           0
          ],
          "Time": 0.5,
          "cell": "ij_entry"
         },
         {
          "Difference": 0.0020065526082111186,
          "End State": [
           4
          ],
          "Start State": [
           0
          ],
          "Time": 0.5,
          "cell": "ij_entry"
         },
         {
          "Difference": -0.001481260814868511,
          "End State": [
           5
          ],
          "Start State": [
           0
          ],
          "Time": 0.5,
          "cell": "ij_entry"
         },
         {
          "Difference": -0.011978117351903933,
          "End State": [
           0
          ],
          "Start State": [
           1
          ],
          "Time": 0.5,
          "cell": "ij_entry"
         },
         {
          "Difference": 0.2897350412024445,
          "End State": [
           1
          ],
          "Start State": [
           1
          ],
          "Time": 0.5,
          "cell": "ii_entry"
         },
         {
          "Difference": -0.03864134086035916,
          "End State": [
           2
          ],
          "Start State": [
           1
          ],
          "Time": 0.5,
          "cell": "ij_entry"
         },
         {
          "Difference": -0.008159519067858209,
          "End State": [
           3
          ],
          "Start State": [
           1
          ],
          "Time": 0.5,
          "cell": "ij_entry"
         },
         {
          "Difference": -0.00875324849550162,
          "End State": [
           4
          ],
          "Start State": [
           1
          ],
          "Time": 0.5,
          "cell": "ij_entry"
         },
         {
          "Difference": -0.009602815426821537,
          "End State": [
           5
          ],
          "Start State": [
           1
          ],
          "Time": 0.5,
          "cell": "ij_entry"
         },
         {
          "Difference": 0.013379599833834431,
          "End State": [
           0
          ],
          "Start State": [
           2
          ],
          "Time": 0.5,
          "cell": "ij_entry"
         },
         {
          "Difference": -0.003951315308156025,
          "End State": [
           1
          ],
          "Start State": [
           2
          ],
          "Time": 0.5,
          "cell": "ij_entry"
         },
         {
          "Difference": 0.32718282063088655,
          "End State": [
           2
          ],
          "Start State": [
           2
          ],
          "Time": 0.5,
          "cell": "ii_entry"
         },
         {
          "Difference": 0.018324860266167267,
          "End State": [
           3
          ],
          "Start State": [
           2
          ],
          "Time": 0.5,
          "cell": "ij_entry"
         },
         {
          "Difference": -0.01106253372964493,
          "End State": [
           4
          ],
          "Start State": [
           2
          ],
          "Time": 0.5,
          "cell": "ij_entry"
         },
         {
          "Difference": 0.016926568306912762,
          "End State": [
           5
          ],
          "Start State": [
           2
          ],
          "Time": 0.5,
          "cell": "ij_entry"
         },
         {
          "Difference": -0.0329090744731451,
          "End State": [
           0
          ],
          "Start State": [
           3
          ],
          "Time": 0.5,
          "cell": "ij_entry"
         },
         {
          "Difference": -0.0044933811537116175,
          "End State": [
           1
          ],
          "Start State": [
           3
          ],
          "Time": 0.5,
          "cell": "ij_entry"
         },
         {
          "Difference": 0.001244776668132705,
          "End State": [
           2
          ],
          "Start State": [
           3
          ],
          "Time": 0.5,
          "cell": "ij_entry"
         },
         {
          "Difference": 0.3111742615527354,
          "End State": [
           3
          ],
          "Start State": [
           3
          ],
          "Time": 0.5,
          "cell": "ii_entry"
         },
         {
          "Difference": -0.0012412295926785347,
          "End State": [
           4
          ],
          "Start State": [
           3
          ],
          "Time": 0.5,
          "cell": "ij_entry"
         },
         {
          "Difference": -0.014575353001333016,
          "End State": [
           5
          ],
          "Start State": [
           3
          ],
          "Time": 0.5,
          "cell": "ij_entry"
         },
         {
          "Difference": -0.01882802393027634,
          "End State": [
           0
          ],
          "Start State": [
           4
          ],
          "Time": 0.5,
          "cell": "ij_entry"
         },
         {
          "Difference": -0.02795036734018932,
          "End State": [
           1
          ],
          "Start State": [
           4
          ],
          "Time": 0.5,
          "cell": "ij_entry"
         },
         {
          "Difference": -0.08030417194691211,
          "End State": [
           2
          ],
          "Start State": [
           4
          ],
          "Time": 0.5,
          "cell": "ij_entry"
         },
         {
          "Difference": -0.023339839698528254,
          "End State": [
           3
          ],
          "Start State": [
           4
          ],
          "Time": 0.5,
          "cell": "ij_entry"
         },
         {
          "Difference": 0.338408966582426,
          "End State": [
           4
          ],
          "Start State": [
           4
          ],
          "Time": 0.5,
          "cell": "ii_entry"
         },
         {
          "Difference": -0.030986563666520063,
          "End State": [
           5
          ],
          "Start State": [
           4
          ],
          "Time": 0.5,
          "cell": "ij_entry"
         },
         {
          "Difference": -0.0011212413435135876,
          "End State": [
           0
          ],
          "Start State": [
           5
          ],
          "Time": 0.5,
          "cell": "ij_entry"
         },
         {
          "Difference": -0.0038153028280158985,
          "End State": [
           1
          ],
          "Start State": [
           5
          ],
          "Time": 0.5,
          "cell": "ij_entry"
         },
         {
          "Difference": -0.00012250296237104052,
          "End State": [
           2
          ],
          "Start State": [
           5
          ],
          "Time": 0.5,
          "cell": "ij_entry"
         },
         {
          "Difference": -0.009268095704743372,
          "End State": [
           3
          ],
          "Start State": [
           5
          ],
          "Time": 0.5,
          "cell": "ij_entry"
         },
         {
          "Difference": -0.0025662660361173983,
          "End State": [
           4
          ],
          "Start State": [
           5
          ],
          "Time": 0.5,
          "cell": "ij_entry"
         },
         {
          "Difference": 0.2872934088747612,
          "End State": [
           5
          ],
          "Start State": [
           5
          ],
          "Time": 0.5,
          "cell": "ii_entry"
         },
         {
          "Difference": 0.31275222503838984,
          "End State": [
           0
          ],
          "Start State": [
           0
          ],
          "Time": 0.6,
          "cell": "ii_entry"
         },
         {
          "Difference": -0.007082375954981207,
          "End State": [
           1
          ],
          "Start State": [
           0
          ],
          "Time": 0.6,
          "cell": "ij_entry"
         },
         {
          "Difference": -0.00789227973331278,
          "End State": [
           2
          ],
          "Start State": [
           0
          ],
          "Time": 0.6,
          "cell": "ij_entry"
         },
         {
          "Difference": -0.022571640050647865,
          "End State": [
           3
          ],
          "Start State": [
           0
          ],
          "Time": 0.6,
          "cell": "ij_entry"
         },
         {
          "Difference": -0.0007229466980424488,
          "End State": [
           4
          ],
          "Start State": [
           0
          ],
          "Time": 0.6,
          "cell": "ij_entry"
         },
         {
          "Difference": -0.0014829826014055858,
          "End State": [
           5
          ],
          "Start State": [
           0
          ],
          "Time": 0.6,
          "cell": "ij_entry"
         },
         {
          "Difference": -0.017189126801661597,
          "End State": [
           0
          ],
          "Start State": [
           1
          ],
          "Time": 0.6,
          "cell": "ij_entry"
         },
         {
          "Difference": 0.3224217260135247,
          "End State": [
           1
          ],
          "Start State": [
           1
          ],
          "Time": 0.6,
          "cell": "ii_entry"
         },
         {
          "Difference": -0.03170591761158449,
          "End State": [
           2
          ],
          "Start State": [
           1
          ],
          "Time": 0.6,
          "cell": "ij_entry"
         },
         {
          "Difference": -0.01116319564196313,
          "End State": [
           3
          ],
          "Start State": [
           1
          ],
          "Time": 0.6,
          "cell": "ij_entry"
         },
         {
          "Difference": -0.009298694717646269,
          "End State": [
           4
          ],
          "Start State": [
           1
          ],
          "Time": 0.6,
          "cell": "ij_entry"
         },
         {
          "Difference": -0.010464791240669215,
          "End State": [
           5
          ],
          "Start State": [
           1
          ],
          "Time": 0.6,
          "cell": "ij_entry"
         },
         {
          "Difference": 0.008078475701206608,
          "End State": [
           0
          ],
          "Start State": [
           2
          ],
          "Time": 0.6,
          "cell": "ij_entry"
         },
         {
          "Difference": -0.002459852443442552,
          "End State": [
           1
          ],
          "Start State": [
           2
          ],
          "Time": 0.6,
          "cell": "ij_entry"
         },
         {
          "Difference": 0.3440272393910015,
          "End State": [
           2
          ],
          "Start State": [
           2
          ],
          "Time": 0.6,
          "cell": "ii_entry"
         },
         {
          "Difference": 0.013099477008232954,
          "End State": [
           3
          ],
          "Start State": [
           2
          ],
          "Time": 0.6,
          "cell": "ij_entry"
         },
         {
          "Difference": 0.00032465746266467296,
          "End State": [
           4
          ],
          "Start State": [
           2
          ],
          "Time": 0.6,
          "cell": "ij_entry"
         },
         {
          "Difference": 0.0065300028803369214,
          "End State": [
           5
          ],
          "Start State": [
           2
          ],
          "Time": 0.6,
          "cell": "ij_entry"
         },
         {
          "Difference": -0.037709673205024975,
          "End State": [
           0
          ],
          "Start State": [
           3
          ],
          "Time": 0.6,
          "cell": "ij_entry"
         },
         {
          "Difference": -0.0043985846180316784,
          "End State": [
           1
          ],
          "Start State": [
           3
          ],
          "Time": 0.6,
          "cell": "ij_entry"
         },
         {
          "Difference": -0.015178724960065823,
          "End State": [
           2
          ],
          "Start State": [
           3
          ],
          "Time": 0.6,
          "cell": "ij_entry"
         },
         {
          "Difference": 0.3356820826372055,
          "End State": [
           3
          ],
          "Start State": [
           3
          ],
          "Time": 0.6,
          "cell": "ii_entry"
         },
         {
          "Difference": -0.0033539178013136245,
          "End State": [
           4
          ],
          "Start State": [
           3
          ],
          "Time": 0.6,
          "cell": "ij_entry"
         },
         {
          "Difference": -0.01744118205276949,
          "End State": [
           5
          ],
          "Start State": [
           3
          ],
          "Time": 0.6,
          "cell": "ij_entry"
         },
         {
          "Difference": -0.02404596000526097,
          "End State": [
           0
          ],
          "Start State": [
           4
          ],
          "Time": 0.6,
          "cell": "ij_entry"
         },
         {
          "Difference": -0.03155406222731548,
          "End State": [
           1
          ],
          "Start State": [
           4
          ],
          "Time": 0.6,
          "cell": "ij_entry"
         },
         {
          "Difference": -0.04723204632868801,
          "End State": [
           2
          ],
          "Start State": [
           4
          ],
          "Time": 0.6,
          "cell": "ij_entry"
         },
         {
          "Difference": -0.019128547478587644,
          "End State": [
           3
          ],
          "Start State": [
           4
          ],
          "Time": 0.6,
          "cell": "ij_entry"
         },
         {
          "Difference": 0.32863054034914113,
          "End State": [
           4
          ],
          "Start State": [
           4
          ],
          "Time": 0.6,
          "cell": "ii_entry"
         },
         {
          "Difference": -0.026069924309289172,
          "End State": [
           5
          ],
          "Start State": [
           4
          ],
          "Time": 0.6,
          "cell": "ij_entry"
         },
         {
          "Difference": -0.006308494394248451,
          "End State": [
           0
          ],
          "Start State": [
           5
          ],
          "Time": 0.6,
          "cell": "ij_entry"
         },
         {
          "Difference": -0.008126661129750898,
          "End State": [
           1
          ],
          "Start State": [
           5
          ],
          "Time": 0.6,
          "cell": "ij_entry"
         },
         {
          "Difference": -0.008443656582962311,
          "End State": [
           2
          ],
          "Start State": [
           5
          ],
          "Time": 0.6,
          "cell": "ij_entry"
         },
         {
          "Difference": -0.017722954138188245,
          "End State": [
           3
          ],
          "Start State": [
           5
          ],
          "Time": 0.6,
          "cell": "ij_entry"
         },
         {
          "Difference": 0.00023936797137413118,
          "End State": [
           4
          ],
          "Start State": [
           5
          ],
          "Time": 0.6,
          "cell": "ij_entry"
         },
         {
          "Difference": 0.30716239827377567,
          "End State": [
           5
          ],
          "Start State": [
           5
          ],
          "Time": 0.6,
          "cell": "ii_entry"
         },
         {
          "Difference": 0.3340307338484936,
          "End State": [
           0
          ],
          "Start State": [
           0
          ],
          "Time": 0.7000000000000001,
          "cell": "ii_entry"
         },
         {
          "Difference": -0.004233462702813079,
          "End State": [
           1
          ],
          "Start State": [
           0
          ],
          "Time": 0.7000000000000001,
          "cell": "ij_entry"
         },
         {
          "Difference": -0.0048476295218324306,
          "End State": [
           2
          ],
          "Start State": [
           0
          ],
          "Time": 0.7000000000000001,
          "cell": "ij_entry"
         },
         {
          "Difference": -0.01618892723364744,
          "End State": [
           3
          ],
          "Start State": [
           0
          ],
          "Time": 0.7000000000000001,
          "cell": "ij_entry"
         },
         {
          "Difference": -0.004344478383253789,
          "End State": [
           4
          ],
          "Start State": [
           0
          ],
          "Time": 0.7000000000000001,
          "cell": "ij_entry"
         },
         {
          "Difference": -0.013816236006946772,
          "End State": [
           5
          ],
          "Start State": [
           0
          ],
          "Time": 0.7000000000000001,
          "cell": "ij_entry"
         },
         {
          "Difference": -0.015283627622891566,
          "End State": [
           0
          ],
          "Start State": [
           1
          ],
          "Time": 0.7000000000000001,
          "cell": "ij_entry"
         },
         {
          "Difference": 0.3318345357831395,
          "End State": [
           1
          ],
          "Start State": [
           1
          ],
          "Time": 0.7000000000000001,
          "cell": "ii_entry"
         },
         {
          "Difference": -0.02803551890934218,
          "End State": [
           2
          ],
          "Start State": [
           1
          ],
          "Time": 0.7000000000000001,
          "cell": "ij_entry"
         },
         {
          "Difference": -0.014150547500665175,
          "End State": [
           3
          ],
          "Start State": [
           1
          ],
          "Time": 0.7000000000000001,
          "cell": "ij_entry"
         },
         {
          "Difference": -0.011027553200573359,
          "End State": [
           4
          ],
          "Start State": [
           1
          ],
          "Time": 0.7000000000000001,
          "cell": "ij_entry"
         },
         {
          "Difference": -0.014537288549667127,
          "End State": [
           5
          ],
          "Start State": [
           1
          ],
          "Time": 0.7000000000000001,
          "cell": "ij_entry"
         },
         {
          "Difference": 0.013478932495485214,
          "End State": [
           0
          ],
          "Start State": [
           2
          ],
          "Time": 0.7000000000000001,
          "cell": "ij_entry"
         },
         {
          "Difference": -0.0037425287148834044,
          "End State": [
           1
          ],
          "Start State": [
           2
          ],
          "Time": 0.7000000000000001,
          "cell": "ij_entry"
         },
         {
          "Difference": 0.3517347048417081,
          "End State": [
           2
          ],
          "Start State": [
           2
          ],
          "Time": 0.7000000000000001,
          "cell": "ii_entry"
         },
         {
          "Difference": 0.015402421416775974,
          "End State": [
           3
          ],
          "Start State": [
           2
          ],
          "Time": 0.7000000000000001,
          "cell": "ij_entry"
         },
         {
          "Difference": 0.009075092401631416,
          "End State": [
           4
          ],
          "Start State": [
           2
          ],
          "Time": 0.7000000000000001,
          "cell": "ij_entry"
         },
         {
          "Difference": 0.016051377559282848,
          "End State": [
           5
          ],
          "Start State": [
           2
          ],
          "Time": 0.7000000000000001,
          "cell": "ij_entry"
         },
         {
          "Difference": -0.024519260098427857,
          "End State": [
           0
          ],
          "Start State": [
           3
          ],
          "Time": 0.7000000000000001,
          "cell": "ij_entry"
         },
         {
          "Difference": -0.00499298864084622,
          "End State": [
           1
          ],
          "Start State": [
           3
          ],
          "Time": 0.7000000000000001,
          "cell": "ij_entry"
         },
         {
          "Difference": -0.013425107441592726,
          "End State": [
           2
          ],
          "Start State": [
           3
          ],
          "Time": 0.7000000000000001,
          "cell": "ij_entry"
         },
         {
          "Difference": 0.34420563909334223,
          "End State": [
           3
          ],
          "Start State": [
           3
          ],
          "Time": 0.7000000000000001,
          "cell": "ii_entry"
         },
         {
          "Difference": -0.0021318521172485234,
          "End State": [
           4
          ],
          "Start State": [
           3
          ],
          "Time": 0.7000000000000001,
          "cell": "ij_entry"
         },
         {
          "Difference": -0.01493643079522692,
          "End State": [
           5
          ],
          "Start State": [
           3
          ],
          "Time": 0.7000000000000001,
          "cell": "ij_entry"
         },
         {
          "Difference": -0.031482490917110306,
          "End State": [
           0
          ],
          "Start State": [
           4
          ],
          "Time": 0.7000000000000001,
          "cell": "ij_entry"
         },
         {
          "Difference": -0.030803738781418757,
          "End State": [
           1
          ],
          "Start State": [
           4
          ],
          "Time": 0.7000000000000001,
          "cell": "ij_entry"
         },
         {
          "Difference": -0.018495236454160735,
          "End State": [
           2
          ],
          "Start State": [
           4
          ],
          "Time": 0.7000000000000001,
          "cell": "ij_entry"
         },
         {
          "Difference": -0.02458200051938959,
          "End State": [
           3
          ],
          "Start State": [
           4
          ],
          "Time": 0.7000000000000001,
          "cell": "ij_entry"
         },
         {
          "Difference": 0.31629447341023875,
          "End State": [
           4
          ],
          "Start State": [
           4
          ],
          "Time": 0.7000000000000001,
          "cell": "ii_entry"
         },
         {
          "Difference": -0.026931006738159548,
          "End State": [
           5
          ],
          "Start State": [
           4
          ],
          "Time": 0.7000000000000001,
          "cell": "ij_entry"
         },
         {
          "Difference": -0.00711480427753735,
          "End State": [
           0
          ],
          "Start State": [
           5
          ],
          "Time": 0.7000000000000001,
          "cell": "ij_entry"
         },
         {
          "Difference": -0.0017319915599071298,
          "End State": [
           1
          ],
          "Start State": [
           5
          ],
          "Time": 0.7000000000000001,
          "cell": "ij_entry"
         },
         {
          "Difference": -0.010199875521234025,
          "End State": [
           2
          ],
          "Start State": [
           5
          ],
          "Time": 0.7000000000000001,
          "cell": "ij_entry"
         },
         {
          "Difference": -0.009673421991627684,
          "End State": [
           3
          ],
          "Start State": [
           5
          ],
          "Time": 0.7000000000000001,
          "cell": "ij_entry"
         },
         {
          "Difference": -0.004585826943694204,
          "End State": [
           4
          ],
          "Start State": [
           5
          ],
          "Time": 0.7000000000000001,
          "cell": "ij_entry"
         },
         {
          "Difference": 0.32670592029400025,
          "End State": [
           5
          ],
          "Start State": [
           5
          ],
          "Time": 0.7000000000000001,
          "cell": "ii_entry"
         },
         {
          "Difference": 0.34819830351699627,
          "End State": [
           0
          ],
          "Start State": [
           0
          ],
          "Time": 0.8,
          "cell": "ii_entry"
         },
         {
          "Difference": -0.006988985945090578,
          "End State": [
           1
          ],
          "Start State": [
           0
          ],
          "Time": 0.8,
          "cell": "ij_entry"
         },
         {
          "Difference": 0.0006298232099185008,
          "End State": [
           2
          ],
          "Start State": [
           0
          ],
          "Time": 0.8,
          "cell": "ij_entry"
         },
         {
          "Difference": -0.01629942324003792,
          "End State": [
           3
          ],
          "Start State": [
           0
          ],
          "Time": 0.8,
          "cell": "ij_entry"
         },
         {
          "Difference": -0.0011186479468239842,
          "End State": [
           4
          ],
          "Start State": [
           0
          ],
          "Time": 0.8,
          "cell": "ij_entry"
         },
         {
          "Difference": -0.011421069594962217,
          "End State": [
           5
          ],
          "Start State": [
           0
          ],
          "Time": 0.8,
          "cell": "ij_entry"
         },
         {
          "Difference": -0.017605204383052755,
          "End State": [
           0
          ],
          "Start State": [
           1
          ],
          "Time": 0.8,
          "cell": "ij_entry"
         },
         {
          "Difference": 0.34229639897483094,
          "End State": [
           1
          ],
          "Start State": [
           1
          ],
          "Time": 0.8,
          "cell": "ii_entry"
         },
         {
          "Difference": -0.027861267590915,
          "End State": [
           2
          ],
          "Start State": [
           1
          ],
          "Time": 0.8,
          "cell": "ij_entry"
         },
         {
          "Difference": -0.008249017258477508,
          "End State": [
           3
          ],
          "Start State": [
           1
          ],
          "Time": 0.8,
          "cell": "ij_entry"
         },
         {
          "Difference": -0.012211949021768108,
          "End State": [
           4
          ],
          "Start State": [
           1
          ],
          "Time": 0.8,
          "cell": "ij_entry"
         },
         {
          "Difference": -0.018768960720617525,
          "End State": [
           5
          ],
          "Start State": [
           1
          ],
          "Time": 0.8,
          "cell": "ij_entry"
         },
         {
          "Difference": 0.01604583681245579,
          "End State": [
           0
          ],
          "Start State": [
           2
          ],
          "Time": 0.8,
          "cell": "ij_entry"
         },
         {
          "Difference": 0.013195870546091275,
          "End State": [
           1
          ],
          "Start State": [
           2
          ],
          "Time": 0.8,
          "cell": "ij_entry"
         },
         {
          "Difference": 0.3597575744140746,
          "End State": [
           2
          ],
          "Start State": [
           2
          ],
          "Time": 0.8,
          "cell": "ii_entry"
         },
         {
          "Difference": 0.009701777743947086,
          "End State": [
           3
          ],
          "Start State": [
           2
          ],
          "Time": 0.8,
          "cell": "ij_entry"
         },
         {
          "Difference": 0.02375640870035907,
          "End State": [
           4
          ],
          "Start State": [
           2
          ],
          "Time": 0.8,
          "cell": "ij_entry"
         },
         {
          "Difference": 0.011342531783072277,
          "End State": [
           5
          ],
          "Start State": [
           2
          ],
          "Time": 0.8,
          "cell": "ij_entry"
         },
         {
          "Difference": -0.01865893090341897,
          "End State": [
           0
          ],
          "Start State": [
           3
          ],
          "Time": 0.8,
          "cell": "ij_entry"
         },
         {
          "Difference": -0.005990806463040475,
          "End State": [
           1
          ],
          "Start State": [
           3
          ],
          "Time": 0.8,
          "cell": "ij_entry"
         },
         {
          "Difference": -0.02247875162863852,
          "End State": [
           2
          ],
          "Start State": [
           3
          ],
          "Time": 0.8,
          "cell": "ij_entry"
         },
         {
          "Difference": 0.35864786664327997,
          "End State": [
           3
          ],
          "Start State": [
           3
          ],
          "Time": 0.8,
          "cell": "ii_entry"
         },
         {
          "Difference": -0.0029068137057858927,
          "End State": [
           4
          ],
          "Start State": [
           3
          ],
          "Time": 0.8,
          "cell": "ij_entry"
         },
         {
          "Difference": -0.012612563942396071,
          "End State": [
           5
          ],
          "Start State": [
           3
          ],
          "Time": 0.8,
          "cell": "ij_entry"
         },
         {
          "Difference": -0.023478620710017294,
          "End State": [
           0
          ],
          "Start State": [
           4
          ],
          "Time": 0.8,
          "cell": "ij_entry"
         },
         {
          "Difference": -0.03303673617145596,
          "End State": [
           1
          ],
          "Start State": [
           4
          ],
          "Time": 0.8,
          "cell": "ij_entry"
         },
         {
          "Difference": 0.007836559314678512,
          "End State": [
           2
          ],
          "Start State": [
           4
          ],
          "Time": 0.8,
          "cell": "ij_entry"
         },
         {
          "Difference": -0.020979856448960242,
          "End State": [
           3
          ],
          "Start State": [
           4
          ],
          "Time": 0.8,
          "cell": "ij_entry"
         },
         {
          "Difference": 0.2931588781254139,
          "End State": [
           4
          ],
          "Start State": [
           4
          ],
          "Time": 0.8,
          "cell": "ii_entry"
         },
         {
          "Difference": -0.026500224109659222,
          "End State": [
           5
          ],
          "Start State": [
           4
          ],
          "Time": 0.8,
          "cell": "ij_entry"
         },
         {
          "Difference": -0.014070571109981653,
          "End State": [
           0
          ],
          "Start State": [
           5
          ],
          "Time": 0.8,
          "cell": "ij_entry"
         },
         {
          "Difference": -0.005344561812665821,
          "End State": [
           1
          ],
          "Start State": [
           5
          ],
          "Time": 0.8,
          "cell": "ij_entry"
         },
         {
          "Difference": -0.013967065163438958,
          "End State": [
           2
          ],
          "Start State": [
           5
          ],
          "Time": 0.8,
          "cell": "ij_entry"
         },
         {
          "Difference": -0.006418116806147955,
          "End State": [
           3
          ],
          "Start State": [
           5
          ],
          "Time": 0.8,
          "cell": "ij_entry"
         },
         {
          "Difference": -0.001574061124402091,
          "End State": [
           4
          ],
          "Start State": [
           5
          ],
          "Time": 0.8,
          "cell": "ij_entry"
         },
         {
          "Difference": 0.3405743760166364,
          "End State": [
           5
          ],
          "Start State": [
           5
          ],
          "Time": 0.8,
          "cell": "ii_entry"
         },
         {
          "Difference": 0.35622795195780466,
          "End State": [
           0
          ],
          "Start State": [
           0
          ],
          "Time": 0.9,
          "cell": "ii_entry"
         },
         {
          "Difference": -0.0014533209565362956,
          "End State": [
           1
          ],
          "Start State": [
           0
          ],
          "Time": 0.9,
          "cell": "ij_entry"
         },
         {
          "Difference": -0.008814225800262629,
          "End State": [
           2
          ],
          "Start State": [
           0
          ],
          "Time": 0.9,
          "cell": "ij_entry"
         },
         {
          "Difference": -0.008630493549696576,
          "End State": [
           3
          ],
          "Start State": [
           0
          ],
          "Time": 0.9,
          "cell": "ij_entry"
         },
         {
          "Difference": 0.0004983921292300957,
          "End State": [
           4
          ],
          "Start State": [
           0
          ],
          "Time": 0.9,
          "cell": "ij_entry"
         },
         {
          "Difference": -0.012028303780539214,
          "End State": [
           5
          ],
          "Start State": [
           0
          ],
          "Time": 0.9,
          "cell": "ij_entry"
         },
         {
          "Difference": -0.017681612395816303,
          "End State": [
           0
          ],
          "Start State": [
           1
          ],
          "Time": 0.9,
          "cell": "ij_entry"
         },
         {
          "Difference": 0.352769887213581,
          "End State": [
           1
          ],
          "Start State": [
           1
          ],
          "Time": 0.9,
          "cell": "ii_entry"
         },
         {
          "Difference": -0.021885935634351802,
          "End State": [
           2
          ],
          "Start State": [
           1
          ],
          "Time": 0.9,
          "cell": "ij_entry"
         },
         {
          "Difference": -0.014772201734251734,
          "End State": [
           3
          ],
          "Start State": [
           1
          ],
          "Time": 0.9,
          "cell": "ij_entry"
         },
         {
          "Difference": -0.015737887967173948,
          "End State": [
           4
          ],
          "Start State": [
           1
          ],
          "Time": 0.9,
          "cell": "ij_entry"
         },
         {
          "Difference": -0.01549224948198713,
          "End State": [
           5
          ],
          "Start State": [
           1
          ],
          "Time": 0.9,
          "cell": "ij_entry"
         },
         {
          "Difference": 0.013058273934515766,
          "End State": [
           0
          ],
          "Start State": [
           2
          ],
          "Time": 0.9,
          "cell": "ij_entry"
         },
         {
          "Difference": 0.018032877587667487,
          "End State": [
           1
          ],
          "Start State": [
           2
          ],
          "Time": 0.9,
          "cell": "ij_entry"
         },
         {
          "Difference": 0.3557243802941704,
          "End State": [
           2
          ],
          "Start State": [
           2
          ],
          "Time": 0.9,
          "cell": "ii_entry"
         },
         {
          "Difference": 0.01987203283258627,
          "End State": [
           3
          ],
          "Start State": [
           2
          ],
          "Time": 0.9,
          "cell": "ij_entry"
         },
         {
          "Difference": 0.03265084621641621,
          "End State": [
           4
          ],
          "Start State": [
           2
          ],
          "Time": 0.9,
          "cell": "ij_entry"
         },
         {
          "Difference": 0.02366158913464393,
          "End State": [
           5
          ],
          "Start State": [
           2
          ],
          "Time": 0.9,
          "cell": "ij_entry"
         },
         {
          "Difference": -0.010306423535544555,
          "End State": [
           0
          ],
          "Start State": [
           3
          ],
          "Time": 0.9,
          "cell": "ij_entry"
         },
         {
          "Difference": -0.0052938401173837565,
          "End State": [
           1
          ],
          "Start State": [
           3
          ],
          "Time": 0.9,
          "cell": "ij_entry"
         },
         {
          "Difference": -0.002915097919952231,
          "End State": [
           2
          ],
          "Start State": [
           3
          ],
          "Time": 0.9,
          "cell": "ij_entry"
         },
         {
          "Difference": 0.35265696245006367,
          "End State": [
           3
          ],
          "Start State": [
           3
          ],
          "Time": 0.9,
          "cell": "ii_entry"
         },
         {
          "Difference": -0.0021778182414489457,
          "End State": [
           4
          ],
          "Start State": [
           3
          ],
          "Time": 0.9,
          "cell": "ij_entry"
         },
         {
          "Difference": -0.01076378263573411,
          "End State": [
           5
          ],
          "Start State": [
           3
          ],
          "Time": 0.9,
          "cell": "ij_entry"
         },
         {
          "Difference": -0.02736496626256061,
          "End State": [
           0
          ],
          "Start State": [
           4
          ],
          "Time": 0.9,
          "cell": "ij_entry"
         },
         {
          "Difference": -0.03661677883934708,
          "End State": [
           1
          ],
          "Start State": [
           4
          ],
          "Time": 0.9,
          "cell": "ij_entry"
         },
         {
          "Difference": 0.0358270936038548,
          "End State": [
           2
          ],
          "Start State": [
           4
          ],
          "Time": 0.9,
          "cell": "ij_entry"
         },
         {
          "Difference": -0.0205322573883798,
          "End State": [
           3
          ],
          "Start State": [
           4
          ],
          "Time": 0.9,
          "cell": "ij_entry"
         },
         {
          "Difference": 0.2737189335452004,
          "End State": [
           4
          ],
          "Start State": [
           4
          ],
          "Time": 0.9,
          "cell": "ii_entry"
         },
         {
          "Difference": -0.0208320246587679,
          "End State": [
           5
          ],
          "Start State": [
           4
          ],
          "Time": 0.9,
          "cell": "ij_entry"
         },
         {
          "Difference": -0.010497599303379089,
          "End State": [
           0
          ],
          "Start State": [
           5
          ],
          "Time": 0.9,
          "cell": "ij_entry"
         },
         {
          "Difference": -0.004865282008169977,
          "End State": [
           1
          ],
          "Start State": [
           5
          ],
          "Time": 0.9,
          "cell": "ij_entry"
         },
         {
          "Difference": -0.005113673729158691,
          "End State": [
           2
          ],
          "Start State": [
           5
          ],
          "Time": 0.9,
          "cell": "ij_entry"
         },
         {
          "Difference": -0.006207003305306033,
          "End State": [
           3
          ],
          "Start State": [
           5
          ],
          "Time": 0.9,
          "cell": "ij_entry"
         },
         {
          "Difference": 0.0009728499382819847,
          "End State": [
           4
          ],
          "Start State": [
           5
          ],
          "Time": 0.9,
          "cell": "ij_entry"
         },
         {
          "Difference": 0.3565107084077317,
          "End State": [
           5
          ],
          "Start State": [
           5
          ],
          "Time": 0.9,
          "cell": "ii_entry"
         },
         {
          "Difference": 0.35814237035545426,
          "End State": [
           0
          ],
          "Start State": [
           0
          ],
          "Time": 1,
          "cell": "ii_entry"
         },
         {
          "Difference": -0.003719250925719203,
          "End State": [
           1
          ],
          "Start State": [
           0
          ],
          "Time": 1,
          "cell": "ij_entry"
         },
         {
          "Difference": -0.003117896488360472,
          "End State": [
           2
          ],
          "Start State": [
           0
          ],
          "Time": 1,
          "cell": "ij_entry"
         },
         {
          "Difference": 0.007398882334442136,
          "End State": [
           3
          ],
          "Start State": [
           0
          ],
          "Time": 1,
          "cell": "ij_entry"
         },
         {
          "Difference": -0.002344830384965909,
          "End State": [
           4
          ],
          "Start State": [
           0
          ],
          "Time": 1,
          "cell": "ij_entry"
         },
         {
          "Difference": -0.007759274890850695,
          "End State": [
           5
          ],
          "Start State": [
           0
          ],
          "Time": 1,
          "cell": "ij_entry"
         },
         {
          "Difference": -0.011626401000531736,
          "End State": [
           0
          ],
          "Start State": [
           1
          ],
          "Time": 1,
          "cell": "ij_entry"
         },
         {
          "Difference": 0.3476787018275182,
          "End State": [
           1
          ],
          "Start State": [
           1
          ],
          "Time": 1,
          "cell": "ii_entry"
         },
         {
          "Difference": -0.014309280811646882,
          "End State": [
           2
          ],
          "Start State": [
           1
          ],
          "Time": 1,
          "cell": "ij_entry"
         },
         {
          "Difference": -0.008021411635011771,
          "End State": [
           3
          ],
          "Start State": [
           1
          ],
          "Time": 1,
          "cell": "ij_entry"
         },
         {
          "Difference": -0.012296379395546762,
          "End State": [
           4
          ],
          "Start State": [
           1
          ],
          "Time": 1,
          "cell": "ij_entry"
         },
         {
          "Difference": -0.01462522898478099,
          "End State": [
           5
          ],
          "Start State": [
           1
          ],
          "Time": 1,
          "cell": "ij_entry"
         },
         {
          "Difference": 0.020607998904998523,
          "End State": [
           0
          ],
          "Start State": [
           2
          ],
          "Time": 1,
          "cell": "ij_entry"
         },
         {
          "Difference": 0.017912093610151517,
          "End State": [
           1
          ],
          "Start State": [
           2
          ],
          "Time": 1,
          "cell": "ij_entry"
         },
         {
          "Difference": 0.3589468755566285,
          "End State": [
           2
          ],
          "Start State": [
           2
          ],
          "Time": 1,
          "cell": "ii_entry"
         },
         {
          "Difference": 0.016596209523542835,
          "End State": [
           3
          ],
          "Start State": [
           2
          ],
          "Time": 1,
          "cell": "ij_entry"
         },
         {
          "Difference": 0.04606139275073779,
          "End State": [
           4
          ],
          "Start State": [
           2
          ],
          "Time": 1,
          "cell": "ij_entry"
         },
         {
          "Difference": 0.03187542965394098,
          "End State": [
           5
          ],
          "Start State": [
           2
          ],
          "Time": 1,
          "cell": "ij_entry"
         },
         {
          "Difference": 0.007479260478358812,
          "End State": [
           0
          ],
          "Start State": [
           3
          ],
          "Time": 1,
          "cell": "ij_entry"
         },
         {
          "Difference": -0.007992879271593582,
          "End State": [
           1
          ],
          "Start State": [
           3
          ],
          "Time": 1,
          "cell": "ij_entry"
         },
         {
          "Difference": -0.010697660228702083,
          "End State": [
           2
          ],
          "Start State": [
           3
          ],
          "Time": 1,
          "cell": "ij_entry"
         },
         {
          "Difference": 0.3502662159549538,
          "End State": [
           3
          ],
          "Start State": [
           3
          ],
          "Time": 1,
          "cell": "ii_entry"
         },
         {
          "Difference": 0.00038057185648619415,
          "End State": [
           4
          ],
          "Start State": [
           3
          ],
          "Time": 1,
          "cell": "ij_entry"
         },
         {
          "Difference": -0.002435508789503077,
          "End State": [
           5
          ],
          "Start State": [
           3
          ],
          "Time": 1,
          "cell": "ij_entry"
         },
         {
          "Difference": -0.026061240163217272,
          "End State": [
           0
          ],
          "Start State": [
           4
          ],
          "Time": 1,
          "cell": "ij_entry"
         },
         {
          "Difference": -0.033117091549282926,
          "End State": [
           1
          ],
          "Start State": [
           4
          ],
          "Time": 1,
          "cell": "ij_entry"
         },
         {
          "Difference": 0.0779950969481902,
          "End State": [
           2
          ],
          "Start State": [
           4
          ],
          "Time": 1,
          "cell": "ij_entry"
         },
         {
          "Difference": -0.018597462915930202,
          "End State": [
           3
          ],
          "Start State": [
           4
          ],
          "Time": 1,
          "cell": "ij_entry"
         },
         {
          "Difference": 0.25330373182725935,
          "End State": [
           4
          ],
          "Start State": [
           4
          ],
          "Time": 1,
          "cell": "ii_entry"
         },
         {
          "Difference": -0.018923034147019374,
          "End State": [
           5
          ],
          "Start State": [
           4
          ],
          "Time": 1,
          "cell": "ij_entry"
         },
         {
          "Difference": -0.0009088600934953756,
          "End State": [
           0
          ],
          "Start State": [
           5
          ],
          "Time": 1,
          "cell": "ij_entry"
         },
         {
          "Difference": -0.006584110774317767,
          "End State": [
           1
          ],
          "Start State": [
           5
          ],
          "Time": 1,
          "cell": "ij_entry"
         },
         {
          "Difference": -0.009397756140695324,
          "End State": [
           2
          ],
          "Start State": [
           5
          ],
          "Time": 1,
          "cell": "ij_entry"
         },
         {
          "Difference": 0.0015513979999495497,
          "End State": [
           3
          ],
          "Start State": [
           5
          ],
          "Time": 1,
          "cell": "ij_entry"
         },
         {
          "Difference": 0.0011762265559295028,
          "End State": [
           4
          ],
          "Start State": [
           5
          ],
          "Time": 1,
          "cell": "ij_entry"
         },
         {
          "Difference": 0.3647631024526293,
          "End State": [
           5
          ],
          "Start State": [
           5
          ],
          "Time": 1,
          "cell": "ii_entry"
         },
         {
          "Difference": 0.3582356784823118,
          "End State": [
           0
          ],
          "Start State": [
           0
          ],
          "Time": 1.1,
          "cell": "ii_entry"
         },
         {
          "Difference": -0.002269161430935404,
          "End State": [
           1
          ],
          "Start State": [
           0
          ],
          "Time": 1.1,
          "cell": "ij_entry"
         },
         {
          "Difference": -0.002204821498427892,
          "End State": [
           2
          ],
          "Start State": [
           0
          ],
          "Time": 1.1,
          "cell": "ij_entry"
         },
         {
          "Difference": 0.007659193562275103,
          "End State": [
           3
          ],
          "Start State": [
           0
          ],
          "Time": 1.1,
          "cell": "ij_entry"
         },
         {
          "Difference": -0.0018950855245433162,
          "End State": [
           4
          ],
          "Start State": [
           0
          ],
          "Time": 1.1,
          "cell": "ij_entry"
         },
         {
          "Difference": -0.0015258035906803163,
          "End State": [
           5
          ],
          "Start State": [
           0
          ],
          "Time": 1.1,
          "cell": "ij_entry"
         },
         {
          "Difference": -0.009540380007984545,
          "End State": [
           0
          ],
          "Start State": [
           1
          ],
          "Time": 1.1,
          "cell": "ij_entry"
         },
         {
          "Difference": 0.35212632310008934,
          "End State": [
           1
          ],
          "Start State": [
           1
          ],
          "Time": 1.1,
          "cell": "ii_entry"
         },
         {
          "Difference": -0.013848216667782458,
          "End State": [
           2
          ],
          "Start State": [
           1
          ],
          "Time": 1.1,
          "cell": "ij_entry"
         },
         {
          "Difference": -0.0020870064452430184,
          "End State": [
           3
          ],
          "Start State": [
           1
          ],
          "Time": 1.1,
          "cell": "ij_entry"
         },
         {
          "Difference": -0.005777534180420478,
          "End State": [
           4
          ],
          "Start State": [
           1
          ],
          "Time": 1.1,
          "cell": "ij_entry"
         },
         {
          "Difference": -0.017873185798658806,
          "End State": [
           5
          ],
          "Start State": [
           1
          ],
          "Time": 1.1,
          "cell": "ij_entry"
         },
         {
          "Difference": 0.021398110923441363,
          "End State": [
           0
          ],
          "Start State": [
           2
          ],
          "Time": 1.1,
          "cell": "ij_entry"
         },
         {
          "Difference": 0.031030253364176613,
          "End State": [
           1
          ],
          "Start State": [
           2
          ],
          "Time": 1.1,
          "cell": "ij_entry"
         },
         {
          "Difference": 0.3567004224695641,
          "End State": [
           2
          ],
          "Start State": [
           2
          ],
          "Time": 1.1,
          "cell": "ii_entry"
         },
         {
          "Difference": 0.017366993185888142,
          "End State": [
           3
          ],
          "Start State": [
           2
          ],
          "Time": 1.1,
          "cell": "ij_entry"
         },
         {
          "Difference": 0.05064314080677573,
          "End State": [
           4
          ],
          "Start State": [
           2
          ],
          "Time": 1.1,
          "cell": "ij_entry"
         },
         {
          "Difference": 0.02386107925015417,
          "End State": [
           5
          ],
          "Start State": [
           2
          ],
          "Time": 1.1,
          "cell": "ij_entry"
         },
         {
          "Difference": 0.008737132405589272,
          "End State": [
           0
          ],
          "Start State": [
           3
          ],
          "Time": 1.1,
          "cell": "ij_entry"
         },
         {
          "Difference": -0.006568898323192206,
          "End State": [
           1
          ],
          "Start State": [
           3
          ],
          "Time": 1.1,
          "cell": "ij_entry"
         },
         {
          "Difference": -0.011176448639125869,
          "End State": [
           2
          ],
          "Start State": [
           3
          ],
          "Time": 1.1,
          "cell": "ij_entry"
         },
         {
          "Difference": 0.34352787684724506,
          "End State": [
           3
          ],
          "Start State": [
           3
          ],
          "Time": 1.1,
          "cell": "ii_entry"
         },
         {
          "Difference": 0.0029120283497730375,
          "End State": [
           4
          ],
          "Start State": [
           3
          ],
          "Time": 1.1,
          "cell": "ij_entry"
         },
         {
          "Difference": 0.001768309359710743,
          "End State": [
           5
          ],
          "Start State": [
           3
          ],
          "Time": 1.1,
          "cell": "ij_entry"
         },
         {
          "Difference": -0.022476207607349814,
          "End State": [
           0
          ],
          "Start State": [
           4
          ],
          "Time": 1.1,
          "cell": "ij_entry"
         },
         {
          "Difference": -0.03170917390408275,
          "End State": [
           1
          ],
          "Start State": [
           4
          ],
          "Time": 1.1,
          "cell": "ij_entry"
         },
         {
          "Difference": 0.09111060785687522,
          "End State": [
           2
          ],
          "Start State": [
           4
          ],
          "Time": 1.1,
          "cell": "ij_entry"
         },
         {
          "Difference": -0.009895043044354616,
          "End State": [
           3
          ],
          "Start State": [
           4
          ],
          "Time": 1.1,
          "cell": "ij_entry"
         },
         {
          "Difference": 0.22929560846438146,
          "End State": [
           4
          ],
          "Start State": [
           4
          ],
          "Time": 1.1,
          "cell": "ii_entry"
         },
         {
          "Difference": -0.013925791765469743,
          "End State": [
           5
          ],
          "Start State": [
           4
          ],
          "Time": 1.1,
          "cell": "ij_entry"
         },
         {
          "Difference": 0.002791537161253632,
          "End State": [
           0
          ],
          "Start State": [
           5
          ],
          "Time": 1.1,
          "cell": "ij_entry"
         },
         {
          "Difference": 0.0018187399853116445,
          "End State": [
           1
          ],
          "Start State": [
           5
          ],
          "Time": 1.1,
          "cell": "ij_entry"
         },
         {
          "Difference": 0.0026346762974188698,
          "End State": [
           2
          ],
          "Start State": [
           5
          ],
          "Time": 1.1,
          "cell": "ij_entry"
         },
         {
          "Difference": 0.0018838037862116963,
          "End State": [
           3
          ],
          "Start State": [
           5
          ],
          "Time": 1.1,
          "cell": "ij_entry"
         },
         {
          "Difference": 0.00037502892750031214,
          "End State": [
           4
          ],
          "Start State": [
           5
          ],
          "Time": 1.1,
          "cell": "ij_entry"
         },
         {
          "Difference": 0.3608962138423037,
          "End State": [
           5
          ],
          "Start State": [
           5
          ],
          "Time": 1.1,
          "cell": "ii_entry"
         },
         {
          "Difference": 0.35629212591913,
          "End State": [
           0
          ],
          "Start State": [
           0
          ],
          "Time": 1.2000000000000002,
          "cell": "ii_entry"
         },
         {
          "Difference": -0.0023761183181400733,
          "End State": [
           1
          ],
          "Start State": [
           0
          ],
          "Time": 1.2000000000000002,
          "cell": "ij_entry"
         },
         {
          "Difference": -0.0025856158794978212,
          "End State": [
           2
          ],
          "Start State": [
           0
          ],
          "Time": 1.2000000000000002,
          "cell": "ij_entry"
         },
         {
          "Difference": 0.02189450331002809,
          "End State": [
           3
          ],
          "Start State": [
           0
          ],
          "Time": 1.2000000000000002,
          "cell": "ij_entry"
         },
         {
          "Difference": 0.0018054411447314574,
          "End State": [
           4
          ],
          "Start State": [
           0
          ],
          "Time": 1.2000000000000002,
          "cell": "ij_entry"
         },
         {
          "Difference": -0.0028303361762515578,
          "End State": [
           5
          ],
          "Start State": [
           0
          ],
          "Time": 1.2000000000000002,
          "cell": "ij_entry"
         },
         {
          "Difference": -0.0021129425901046245,
          "End State": [
           0
          ],
          "Start State": [
           1
          ],
          "Time": 1.2000000000000002,
          "cell": "ij_entry"
         },
         {
          "Difference": 0.3523122065837179,
          "End State": [
           1
          ],
          "Start State": [
           1
          ],
          "Time": 1.2000000000000002,
          "cell": "ii_entry"
         },
         {
          "Difference": 0.008647080824540646,
          "End State": [
           2
          ],
          "Start State": [
           1
          ],
          "Time": 1.2000000000000002,
          "cell": "ij_entry"
         },
         {
          "Difference": -0.011849549286718379,
          "End State": [
           3
          ],
          "Start State": [
           1
          ],
          "Time": 1.2000000000000002,
          "cell": "ij_entry"
         },
         {
          "Difference": -0.007866810063416527,
          "End State": [
           4
          ],
          "Start State": [
           1
          ],
          "Time": 1.2000000000000002,
          "cell": "ij_entry"
         },
         {
          "Difference": -0.013329985468018966,
          "End State": [
           5
          ],
          "Start State": [
           1
          ],
          "Time": 1.2000000000000002,
          "cell": "ij_entry"
         },
         {
          "Difference": 0.033941904779830195,
          "End State": [
           0
          ],
          "Start State": [
           2
          ],
          "Time": 1.2000000000000002,
          "cell": "ij_entry"
         },
         {
          "Difference": 0.040026895467261014,
          "End State": [
           1
          ],
          "Start State": [
           2
          ],
          "Time": 1.2000000000000002,
          "cell": "ij_entry"
         },
         {
          "Difference": 0.35168424698060874,
          "End State": [
           2
          ],
          "Start State": [
           2
          ],
          "Time": 1.2000000000000002,
          "cell": "ii_entry"
         },
         {
          "Difference": 0.023687156308433377,
          "End State": [
           3
          ],
          "Start State": [
           2
          ],
          "Time": 1.2000000000000002,
          "cell": "ij_entry"
         },
         {
          "Difference": 0.06255346480140975,
          "End State": [
           4
          ],
          "Start State": [
           2
          ],
          "Time": 1.2000000000000002,
          "cell": "ij_entry"
         },
         {
          "Difference": 0.03250633166245706,
          "End State": [
           5
          ],
          "Start State": [
           2
          ],
          "Time": 1.2000000000000002,
          "cell": "ij_entry"
         },
         {
          "Difference": 0.014786803985710556,
          "End State": [
           0
          ],
          "Start State": [
           3
          ],
          "Time": 1.2000000000000002,
          "cell": "ij_entry"
         },
         {
          "Difference": -0.005694091931697141,
          "End State": [
           1
          ],
          "Start State": [
           3
          ],
          "Time": 1.2000000000000002,
          "cell": "ij_entry"
         },
         {
          "Difference": 0.002112625845896818,
          "End State": [
           2
          ],
          "Start State": [
           3
          ],
          "Time": 1.2000000000000002,
          "cell": "ij_entry"
         },
         {
          "Difference": 0.3357419310203776,
          "End State": [
           3
          ],
          "Start State": [
           3
          ],
          "Time": 1.2000000000000002,
          "cell": "ii_entry"
         },
         {
          "Difference": 0.004573814452419434,
          "End State": [
           4
          ],
          "Start State": [
           3
          ],
          "Time": 1.2000000000000002,
          "cell": "ij_entry"
         },
         {
          "Difference": 0.002678916627292763,
          "End State": [
           5
          ],
          "Start State": [
           3
          ],
          "Time": 1.2000000000000002,
          "cell": "ij_entry"
         },
         {
          "Difference": -0.027507965620915308,
          "End State": [
           0
          ],
          "Start State": [
           4
          ],
          "Time": 1.2000000000000002,
          "cell": "ij_entry"
         },
         {
          "Difference": -0.023555659797555008,
          "End State": [
           1
          ],
          "Start State": [
           4
          ],
          "Time": 1.2000000000000002,
          "cell": "ij_entry"
         },
         {
          "Difference": 0.11184714460512814,
          "End State": [
           2
          ],
          "Start State": [
           4
          ],
          "Time": 1.2000000000000002,
          "cell": "ij_entry"
         },
         {
          "Difference": -0.01011572743755084,
          "End State": [
           3
          ],
          "Start State": [
           4
          ],
          "Time": 1.2000000000000002,
          "cell": "ij_entry"
         },
         {
          "Difference": 0.20769135504040845,
          "End State": [
           4
          ],
          "Start State": [
           4
          ],
          "Time": 1.2000000000000002,
          "cell": "ii_entry"
         },
         {
          "Difference": -0.012159146789515705,
          "End State": [
           5
          ],
          "Start State": [
           4
          ],
          "Time": 1.2000000000000002,
          "cell": "ij_entry"
         },
         {
          "Difference": -0.00809178715543906,
          "End State": [
           0
          ],
          "Start State": [
           5
          ],
          "Time": 1.2000000000000002,
          "cell": "ij_entry"
         },
         {
          "Difference": 0.0010717630638430176,
          "End State": [
           1
          ],
          "Start State": [
           5
          ],
          "Time": 1.2000000000000002,
          "cell": "ij_entry"
         },
         {
          "Difference": -0.0035496050588464806,
          "End State": [
           2
          ],
          "Start State": [
           5
          ],
          "Time": 1.2000000000000002,
          "cell": "ij_entry"
         },
         {
          "Difference": 0.0034468317228923614,
          "End State": [
           3
          ],
          "Start State": [
           5
          ],
          "Time": 1.2000000000000002,
          "cell": "ij_entry"
         },
         {
          "Difference": 0.006521697310976817,
          "End State": [
           4
          ],
          "Start State": [
           5
          ],
          "Time": 1.2000000000000002,
          "cell": "ij_entry"
         },
         {
          "Difference": 0.3678011001165732,
          "End State": [
           5
          ],
          "Start State": [
           5
          ],
          "Time": 1.2000000000000002,
          "cell": "ii_entry"
         },
         {
          "Difference": 0.3488021610059956,
          "End State": [
           0
          ],
          "Start State": [
           0
          ],
          "Time": 1.3000000000000003,
          "cell": "ii_entry"
         },
         {
          "Difference": 0.0002951607745280971,
          "End State": [
           1
          ],
          "Start State": [
           0
          ],
          "Time": 1.3000000000000003,
          "cell": "ij_entry"
         },
         {
          "Difference": 0.005440835719557072,
          "End State": [
           2
          ],
          "Start State": [
           0
          ],
          "Time": 1.3000000000000003,
          "cell": "ij_entry"
         },
         {
          "Difference": 0.033909119335974174,
          "End State": [
           3
          ],
          "Start State": [
           0
          ],
          "Time": 1.3000000000000003,
          "cell": "ij_entry"
         },
         {
          "Difference": -0.001681060557314172,
          "End State": [
           4
          ],
          "Start State": [
           0
          ],
          "Time": 1.3000000000000003,
          "cell": "ij_entry"
         },
         {
          "Difference": -0.0031662162787407105,
          "End State": [
           5
          ],
          "Start State": [
           0
          ],
          "Time": 1.3000000000000003,
          "cell": "ij_entry"
         },
         {
          "Difference": -0.0036232572994318035,
          "End State": [
           0
          ],
          "Start State": [
           1
          ],
          "Time": 1.3000000000000003,
          "cell": "ij_entry"
         },
         {
          "Difference": 0.3383458552179369,
          "End State": [
           1
          ],
          "Start State": [
           1
          ],
          "Time": 1.3000000000000003,
          "cell": "ii_entry"
         },
         {
          "Difference": 0.0077802708081046446,
          "End State": [
           2
          ],
          "Start State": [
           1
          ],
          "Time": 1.3000000000000003,
          "cell": "ij_entry"
         },
         {
          "Difference": -0.0051808158855466205,
          "End State": [
           3
          ],
          "Start State": [
           1
          ],
          "Time": 1.3000000000000003,
          "cell": "ij_entry"
         },
         {
          "Difference": -0.007442788061840226,
          "End State": [
           4
          ],
          "Start State": [
           1
          ],
          "Time": 1.3000000000000003,
          "cell": "ij_entry"
         },
         {
          "Difference": -0.006479264779222921,
          "End State": [
           5
          ],
          "Start State": [
           1
          ],
          "Time": 1.3000000000000003,
          "cell": "ij_entry"
         },
         {
          "Difference": 0.03756186446326057,
          "End State": [
           0
          ],
          "Start State": [
           2
          ],
          "Time": 1.3000000000000003,
          "cell": "ij_entry"
         },
         {
          "Difference": 0.05197608753078509,
          "End State": [
           1
          ],
          "Start State": [
           2
          ],
          "Time": 1.3000000000000003,
          "cell": "ij_entry"
         },
         {
          "Difference": 0.3384665149027409,
          "End State": [
           2
          ],
          "Start State": [
           2
          ],
          "Time": 1.3000000000000003,
          "cell": "ii_entry"
         },
         {
          "Difference": 0.029869505593090817,
          "End State": [
           3
          ],
          "Start State": [
           2
          ],
          "Time": 1.3000000000000003,
          "cell": "ij_entry"
         },
         {
          "Difference": 0.06221619017200822,
          "End State": [
           4
          ],
          "Start State": [
           2
          ],
          "Time": 1.3000000000000003,
          "cell": "ij_entry"
         },
         {
          "Difference": 0.04350983733811466,
          "End State": [
           5
          ],
          "Start State": [
           2
          ],
          "Time": 1.3000000000000003,
          "cell": "ij_entry"
         },
         {
          "Difference": 0.03321388519506701,
          "End State": [
           0
          ],
          "Start State": [
           3
          ],
          "Time": 1.3000000000000003,
          "cell": "ij_entry"
         },
         {
          "Difference": 0.006367220366114507,
          "End State": [
           1
          ],
          "Start State": [
           3
          ],
          "Time": 1.3000000000000003,
          "cell": "ij_entry"
         },
         {
          "Difference": 0.004247678453267303,
          "End State": [
           2
          ],
          "Start State": [
           3
          ],
          "Time": 1.3000000000000003,
          "cell": "ij_entry"
         },
         {
          "Difference": 0.3340805297203705,
          "End State": [
           3
          ],
          "Start State": [
           3
          ],
          "Time": 1.3000000000000003,
          "cell": "ii_entry"
         },
         {
          "Difference": 0.0029333265744673938,
          "End State": [
           4
          ],
          "Start State": [
           3
          ],
          "Time": 1.3000000000000003,
          "cell": "ij_entry"
         },
         {
          "Difference": 0.014757359690713165,
          "End State": [
           5
          ],
          "Start State": [
           3
          ],
          "Time": 1.3000000000000003,
          "cell": "ij_entry"
         },
         {
          "Difference": -0.018844432949383934,
          "End State": [
           0
          ],
          "Start State": [
           4
          ],
          "Time": 1.3000000000000003,
          "cell": "ij_entry"
         },
         {
          "Difference": -0.0124060892688286,
          "End State": [
           1
          ],
          "Start State": [
           4
          ],
          "Time": 1.3000000000000003,
          "cell": "ij_entry"
         },
         {
          "Difference": 0.12887539206166426,
          "End State": [
           2
          ],
          "Start State": [
           4
          ],
          "Time": 1.3000000000000003,
          "cell": "ij_entry"
         },
         {
          "Difference": -0.00712874207937398,
          "End State": [
           3
          ],
          "Start State": [
           4
          ],
          "Time": 1.3000000000000003,
          "cell": "ij_entry"
         },
         {
          "Difference": 0.19241999998325746,
          "End State": [
           4
          ],
          "Start State": [
           4
          ],
          "Time": 1.3000000000000003,
          "cell": "ii_entry"
         },
         {
          "Difference": -0.00451612774733548,
          "End State": [
           5
          ],
          "Start State": [
           4
          ],
          "Time": 1.3000000000000003,
          "cell": "ij_entry"
         },
         {
          "Difference": 0.00395426362867532,
          "End State": [
           0
          ],
          "Start State": [
           5
          ],
          "Time": 1.3000000000000003,
          "cell": "ij_entry"
         },
         {
          "Difference": -0.005688753171527179,
          "End State": [
           1
          ],
          "Start State": [
           5
          ],
          "Time": 1.3000000000000003,
          "cell": "ij_entry"
         },
         {
          "Difference": 0.005929059840700648,
          "End State": [
           2
          ],
          "Start State": [
           5
          ],
          "Time": 1.3000000000000003,
          "cell": "ij_entry"
         },
         {
          "Difference": 0.005522419982395069,
          "End State": [
           3
          ],
          "Start State": [
           5
          ],
          "Time": 1.3000000000000003,
          "cell": "ij_entry"
         },
         {
          "Difference": 0.004979003479727247,
          "End State": [
           4
          ],
          "Start State": [
           5
          ],
          "Time": 1.3000000000000003,
          "cell": "ij_entry"
         },
         {
          "Difference": 0.3665040062400287,
          "End State": [
           5
          ],
          "Start State": [
           5
          ],
          "Time": 1.3000000000000003,
          "cell": "ii_entry"
         },
         {
          "Difference": 0.3399762316697272,
          "End State": [
           0
          ],
          "Start State": [
           0
          ],
          "Time": 1.4000000000000001,
          "cell": "ii_entry"
         },
         {
          "Difference": 0.009287431581686267,
          "End State": [
           1
          ],
          "Start State": [
           0
          ],
          "Time": 1.4000000000000001,
          "cell": "ij_entry"
         },
         {
          "Difference": 0.020386240499382327,
          "End State": [
           2
          ],
          "Start State": [
           0
          ],
          "Time": 1.4000000000000001,
          "cell": "ij_entry"
         },
         {
          "Difference": 0.04355643905150987,
          "End State": [
           3
          ],
          "Start State": [
           0
          ],
          "Time": 1.4000000000000001,
          "cell": "ij_entry"
         },
         {
          "Difference": 0.002611709373876253,
          "End State": [
           4
          ],
          "Start State": [
           0
          ],
          "Time": 1.4000000000000001,
          "cell": "ij_entry"
         },
         {
          "Difference": 0.005181947823818173,
          "End State": [
           5
          ],
          "Start State": [
           0
          ],
          "Time": 1.4000000000000001,
          "cell": "ij_entry"
         },
         {
          "Difference": -0.000341341168139192,
          "End State": [
           0
          ],
          "Start State": [
           1
          ],
          "Time": 1.4000000000000001,
          "cell": "ij_entry"
         },
         {
          "Difference": 0.33405904926894714,
          "End State": [
           1
          ],
          "Start State": [
           1
          ],
          "Time": 1.4000000000000001,
          "cell": "ii_entry"
         },
         {
          "Difference": 0.010998479231528094,
          "End State": [
           2
          ],
          "Start State": [
           1
          ],
          "Time": 1.4000000000000001,
          "cell": "ij_entry"
         },
         {
          "Difference": -0.004344683773868159,
          "End State": [
           3
          ],
          "Start State": [
           1
          ],
          "Time": 1.4000000000000001,
          "cell": "ij_entry"
         },
         {
          "Difference": -0.0005760234192392147,
          "End State": [
           4
          ],
          "Start State": [
           1
          ],
          "Time": 1.4000000000000001,
          "cell": "ij_entry"
         },
         {
          "Difference": -0.007195480139228674,
          "End State": [
           5
          ],
          "Start State": [
           1
          ],
          "Time": 1.4000000000000001,
          "cell": "ij_entry"
         },
         {
          "Difference": 0.034988772618904776,
          "End State": [
           0
          ],
          "Start State": [
           2
          ],
          "Time": 1.4000000000000001,
          "cell": "ij_entry"
         },
         {
          "Difference": 0.05117977642804143,
          "End State": [
           1
          ],
          "Start State": [
           2
          ],
          "Time": 1.4000000000000001,
          "cell": "ij_entry"
         },
         {
          "Difference": 0.34151798785523774,
          "End State": [
           2
          ],
          "Start State": [
           2
          ],
          "Time": 1.4000000000000001,
          "cell": "ii_entry"
         },
         {
          "Difference": 0.03383651542552943,
          "End State": [
           3
          ],
          "Start State": [
           2
          ],
          "Time": 1.4000000000000001,
          "cell": "ij_entry"
         },
         {
          "Difference": 0.07149611544537142,
          "End State": [
           4
          ],
          "Start State": [
           2
          ],
          "Time": 1.4000000000000001,
          "cell": "ij_entry"
         },
         {
          "Difference": 0.04138083222691534,
          "End State": [
           5
          ],
          "Start State": [
           2
          ],
          "Time": 1.4000000000000001,
          "cell": "ij_entry"
         },
         {
          "Difference": 0.03245776413898215,
          "End State": [
           0
          ],
          "Start State": [
           3
          ],
          "Time": 1.4000000000000001,
          "cell": "ij_entry"
         },
         {
          "Difference": 0.00875779700154701,
          "End State": [
           1
          ],
          "Start State": [
           3
          ],
          "Time": 1.4000000000000001,
          "cell": "ij_entry"
         },
         {
          "Difference": 0.01112033894434701,
          "End State": [
           2
          ],
          "Start State": [
           3
          ],
          "Time": 1.4000000000000001,
          "cell": "ij_entry"
         },
         {
          "Difference": 0.32200870955521876,
          "End State": [
           3
          ],
          "Start State": [
           3
          ],
          "Time": 1.4000000000000001,
          "cell": "ii_entry"
         },
         {
          "Difference": 0.008965523960256162,
          "End State": [
           4
          ],
          "Start State": [
           3
          ],
          "Time": 1.4000000000000001,
          "cell": "ij_entry"
         },
         {
          "Difference": 0.019489866399648836,
          "End State": [
           5
          ],
          "Start State": [
           3
          ],
          "Time": 1.4000000000000001,
          "cell": "ij_entry"
         },
         {
          "Difference": -0.011563969165272948,
          "End State": [
           0
          ],
          "Start State": [
           4
          ],
          "Time": 1.4000000000000001,
          "cell": "ij_entry"
         },
         {
          "Difference": -0.008594724316016954,
          "End State": [
           1
          ],
          "Start State": [
           4
          ],
          "Time": 1.4000000000000001,
          "cell": "ij_entry"
         },
         {
          "Difference": 0.144787606557792,
          "End State": [
           2
          ],
          "Start State": [
           4
          ],
          "Time": 1.4000000000000001,
          "cell": "ij_entry"
         },
         {
          "Difference": -0.001987262478940967,
          "End State": [
           3
          ],
          "Start State": [
           4
          ],
          "Time": 1.4000000000000001,
          "cell": "ij_entry"
         },
         {
          "Difference": 0.17722825007981216,
          "End State": [
           4
          ],
          "Start State": [
           4
          ],
          "Time": 1.4000000000000001,
          "cell": "ii_entry"
         },
         {
          "Difference": 0.001930099322626458,
          "End State": [
           5
          ],
          "Start State": [
           4
          ],
          "Time": 1.4000000000000001,
          "cell": "ij_entry"
         },
         {
          "Difference": -0.002749079908175786,
          "End State": [
           0
          ],
          "Start State": [
           5
          ],
          "Time": 1.4000000000000001,
          "cell": "ij_entry"
         },
         {
          "Difference": 0.0006804758326977856,
          "End State": [
           1
          ],
          "Start State": [
           5
          ],
          "Time": 1.4000000000000001,
          "cell": "ij_entry"
         },
         {
          "Difference": 0.010762898171662871,
          "End State": [
           2
          ],
          "Start State": [
           5
          ],
          "Time": 1.4000000000000001,
          "cell": "ij_entry"
         },
         {
          "Difference": 0.014613901396413422,
          "End State": [
           3
          ],
          "Start State": [
           5
          ],
          "Time": 1.4000000000000001,
          "cell": "ij_entry"
         },
         {
          "Difference": 0.008917666760044015,
          "End State": [
           4
          ],
          "Start State": [
           5
          ],
          "Time": 1.4000000000000001,
          "cell": "ij_entry"
         },
         {
          "Difference": 0.36497413774735754,
          "End State": [
           5
          ],
          "Start State": [
           5
          ],
          "Time": 1.4000000000000001,
          "cell": "ii_entry"
         },
         {
          "Difference": 0.3341566324249748,
          "End State": [
           0
          ],
          "Start State": [
           0
          ],
          "Time": 1.5000000000000002,
          "cell": "ii_entry"
         },
         {
          "Difference": 0.016150136048640483,
          "End State": [
           1
          ],
          "Start State": [
           0
          ],
          "Time": 1.5000000000000002,
          "cell": "ij_entry"
         },
         {
          "Difference": 0.020771881934717476,
          "End State": [
           2
          ],
          "Start State": [
           0
          ],
          "Time": 1.5000000000000002,
          "cell": "ij_entry"
         },
         {
          "Difference": 0.04092963574579137,
          "End State": [
           3
          ],
          "Start State": [
           0
          ],
          "Time": 1.5000000000000002,
          "cell": "ij_entry"
         },
         {
          "Difference": 0.002253865223953041,
          "End State": [
           4
          ],
          "Start State": [
           0
          ],
          "Time": 1.5000000000000002,
          "cell": "ij_entry"
         },
         {
          "Difference": 0.002537848621922814,
          "End State": [
           5
          ],
          "Start State": [
           0
          ],
          "Time": 1.5000000000000002,
          "cell": "ij_entry"
         },
         {
          "Difference": -0.0005290250231043542,
          "End State": [
           0
          ],
          "Start State": [
           1
          ],
          "Time": 1.5000000000000002,
          "cell": "ij_entry"
         },
         {
          "Difference": 0.32521647668099884,
          "End State": [
           1
          ],
          "Start State": [
           1
          ],
          "Time": 1.5000000000000002,
          "cell": "ii_entry"
         },
         {
          "Difference": 0.020583941110080203,
          "End State": [
           2
          ],
          "Start State": [
           1
          ],
          "Time": 1.5000000000000002,
          "cell": "ij_entry"
         },
         {
          "Difference": -0.0035979218267795376,
          "End State": [
           3
          ],
          "Start State": [
           1
          ],
          "Time": 1.5000000000000002,
          "cell": "ij_entry"
         },
         {
          "Difference": -0.005328635147631353,
          "End State": [
           4
          ],
          "Start State": [
           1
          ],
          "Time": 1.5000000000000002,
          "cell": "ij_entry"
         },
         {
          "Difference": -0.004944835793563751,
          "End State": [
           5
          ],
          "Start State": [
           1
          ],
          "Time": 1.5000000000000002,
          "cell": "ij_entry"
         },
         {
          "Difference": 0.039960915895266375,
          "End State": [
           0
          ],
          "Start State": [
           2
          ],
          "Time": 1.5000000000000002,
          "cell": "ij_entry"
         },
         {
          "Difference": 0.0663624279563917,
          "End State": [
           1
          ],
          "Start State": [
           2
          ],
          "Time": 1.5000000000000002,
          "cell": "ij_entry"
         },
         {
          "Difference": 0.3376371040353937,
          "End State": [
           2
          ],
          "Start State": [
           2
          ],
          "Time": 1.5000000000000002,
          "cell": "ii_entry"
         },
         {
          "Difference": 0.04151976620493115,
          "End State": [
           3
          ],
          "Start State": [
           2
          ],
          "Time": 1.5000000000000002,
          "cell": "ij_entry"
         },
         {
          "Difference": 0.08108115272658596,
          "End State": [
           4
          ],
          "Start State": [
           2
          ],
          "Time": 1.5000000000000002,
          "cell": "ij_entry"
         },
         {
          "Difference": 0.04863863318143129,
          "End State": [
           5
          ],
          "Start State": [
           2
          ],
          "Time": 1.5000000000000002,
          "cell": "ij_entry"
         },
         {
          "Difference": 0.053001403886821535,
          "End State": [
           0
          ],
          "Start State": [
           3
          ],
          "Time": 1.5000000000000002,
          "cell": "ij_entry"
         },
         {
          "Difference": 0.01362676663393355,
          "End State": [
           1
          ],
          "Start State": [
           3
          ],
          "Time": 1.5000000000000002,
          "cell": "ij_entry"
         },
         {
          "Difference": 0.014034966833108203,
          "End State": [
           2
          ],
          "Start State": [
           3
          ],
          "Time": 1.5000000000000002,
          "cell": "ij_entry"
         },
         {
          "Difference": 0.3153019489674189,
          "End State": [
           3
          ],
          "Start State": [
           3
          ],
          "Time": 1.5000000000000002,
          "cell": "ii_entry"
         },
         {
          "Difference": 0.01325102221691114,
          "End State": [
           4
          ],
          "Start State": [
           3
          ],
          "Time": 1.5000000000000002,
          "cell": "ij_entry"
         },
         {
          "Difference": 0.03098389146180669,
          "End State": [
           5
          ],
          "Start State": [
           3
          ],
          "Time": 1.5000000000000002,
          "cell": "ij_entry"
         },
         {
          "Difference": -0.014136064268034362,
          "End State": [
           0
          ],
          "Start State": [
           4
          ],
          "Time": 1.5000000000000002,
          "cell": "ij_entry"
         },
         {
          "Difference": -0.010839769579826908,
          "End State": [
           1
          ],
          "Start State": [
           4
          ],
          "Time": 1.5000000000000002,
          "cell": "ij_entry"
         },
         {
          "Difference": 0.16664462520404444,
          "End State": [
           2
          ],
          "Start State": [
           4
          ],
          "Time": 1.5000000000000002,
          "cell": "ij_entry"
         },
         {
          "Difference": 0.006867541438894689,
          "End State": [
           3
          ],
          "Start State": [
           4
          ],
          "Time": 1.5000000000000002,
          "cell": "ij_entry"
         },
         {
          "Difference": 0.1605419513498369,
          "End State": [
           4
          ],
          "Start State": [
           4
          ],
          "Time": 1.5000000000000002,
          "cell": "ii_entry"
         },
         {
          "Difference": -0.00047828414491502685,
          "End State": [
           5
          ],
          "Start State": [
           4
          ],
          "Time": 1.5000000000000002,
          "cell": "ij_entry"
         },
         {
          "Difference": 0.008327141776838465,
          "End State": [
           0
          ],
          "Start State": [
           5
          ],
          "Time": 1.5000000000000002,
          "cell": "ij_entry"
         },
         {
          "Difference": 0.00672902307581115,
          "End State": [
           1
          ],
          "Start State": [
           5
          ],
          "Time": 1.5000000000000002,
          "cell": "ij_entry"
         },
         {
          "Difference": 0.019256105488286726,
          "End State": [
           2
          ],
          "Start State": [
           5
          ],
          "Time": 1.5000000000000002,
          "cell": "ij_entry"
         },
         {
          "Difference": 0.02344264378637609,
          "End State": [
           3
          ],
          "Start State": [
           5
          ],
          "Time": 1.5000000000000002,
          "cell": "ij_entry"
         },
         {
          "Difference": 0.0065145475266551595,
          "End State": [
           4
          ],
          "Start State": [
           5
          ],
          "Time": 1.5000000000000002,
          "cell": "ij_entry"
         },
         {
          "Difference": 0.3541305383460322,
          "End State": [
           5
          ],
          "Start State": [
           5
          ],
          "Time": 1.5000000000000002,
          "cell": "ii_entry"
         },
         {
          "Difference": 0.33002766877175493,
          "End State": [
           0
          ],
          "Start State": [
           0
          ],
          "Time": 1.6,
          "cell": "ii_entry"
         },
         {
          "Difference": 0.014638694500833667,
          "End State": [
           1
          ],
          "Start State": [
           0
          ],
          "Time": 1.6,
          "cell": "ij_entry"
         },
         {
          "Difference": 0.012527707597708493,
          "End State": [
           2
          ],
          "Start State": [
           0
          ],
          "Time": 1.6,
          "cell": "ij_entry"
         },
         {
          "Difference": 0.05455390170705195,
          "End State": [
           3
          ],
          "Start State": [
           0
          ],
          "Time": 1.6,
          "cell": "ij_entry"
         },
         {
          "Difference": 0.003619027009946995,
          "End State": [
           4
          ],
          "Start State": [
           0
          ],
          "Time": 1.6,
          "cell": "ij_entry"
         },
         {
          "Difference": 0.015033000412703931,
          "End State": [
           5
          ],
          "Start State": [
           0
          ],
          "Time": 1.6,
          "cell": "ij_entry"
         },
         {
          "Difference": -0.00484082131021734,
          "End State": [
           0
          ],
          "Start State": [
           1
          ],
          "Time": 1.6,
          "cell": "ij_entry"
         },
         {
          "Difference": 0.3179249730296885,
          "End State": [
           1
          ],
          "Start State": [
           1
          ],
          "Time": 1.6,
          "cell": "ii_entry"
         },
         {
          "Difference": 0.027647243344784522,
          "End State": [
           2
          ],
          "Start State": [
           1
          ],
          "Time": 1.6,
          "cell": "ij_entry"
         },
         {
          "Difference": 0.0012091042947661168,
          "End State": [
           3
          ],
          "Start State": [
           1
          ],
          "Time": 1.6,
          "cell": "ij_entry"
         },
         {
          "Difference": 0.005045611164856606,
          "End State": [
           4
          ],
          "Start State": [
           1
          ],
          "Time": 1.6,
          "cell": "ij_entry"
         },
         {
          "Difference": 0.004013889476121649,
          "End State": [
           5
          ],
          "Start State": [
           1
          ],
          "Time": 1.6,
          "cell": "ij_entry"
         },
         {
          "Difference": 0.05202337096051585,
          "End State": [
           0
          ],
          "Start State": [
           2
          ],
          "Time": 1.6,
          "cell": "ij_entry"
         },
         {
          "Difference": 0.06506669296715933,
          "End State": [
           1
          ],
          "Start State": [
           2
          ],
          "Time": 1.6,
          "cell": "ij_entry"
         },
         {
          "Difference": 0.3303686338050443,
          "End State": [
           2
          ],
          "Start State": [
           2
          ],
          "Time": 1.6,
          "cell": "ii_entry"
         },
         {
          "Difference": 0.049059272142814546,
          "End State": [
           3
          ],
          "Start State": [
           2
          ],
          "Time": 1.6,
          "cell": "ij_entry"
         },
         {
          "Difference": 0.07867003829414751,
          "End State": [
           4
          ],
          "Start State": [
           2
          ],
          "Time": 1.6,
          "cell": "ij_entry"
         },
         {
          "Difference": 0.04601199183031865,
          "End State": [
           5
          ],
          "Start State": [
           2
          ],
          "Time": 1.6,
          "cell": "ij_entry"
         },
         {
          "Difference": 0.05276284485657569,
          "End State": [
           0
          ],
          "Start State": [
           3
          ],
          "Time": 1.6,
          "cell": "ij_entry"
         },
         {
          "Difference": 0.008928995845962212,
          "End State": [
           1
          ],
          "Start State": [
           3
          ],
          "Time": 1.6,
          "cell": "ij_entry"
         },
         {
          "Difference": 0.02330771189002985,
          "End State": [
           2
          ],
          "Start State": [
           3
          ],
          "Time": 1.6,
          "cell": "ij_entry"
         },
         {
          "Difference": 0.30466102793126126,
          "End State": [
           3
          ],
          "Start State": [
           3
          ],
          "Time": 1.6,
          "cell": "ii_entry"
         },
         {
          "Difference": 0.011174681910694071,
          "End State": [
           4
          ],
          "Start State": [
           3
          ],
          "Time": 1.6,
          "cell": "ij_entry"
         },
         {
          "Difference": 0.03156473756547691,
          "End State": [
           5
          ],
          "Start State": [
           3
          ],
          "Time": 1.6,
          "cell": "ij_entry"
         },
         {
          "Difference": -0.01002205706071612,
          "End State": [
           0
          ],
          "Start State": [
           4
          ],
          "Time": 1.6,
          "cell": "ij_entry"
         },
         {
          "Difference": -0.005843531211940103,
          "End State": [
           1
          ],
          "Start State": [
           4
          ],
          "Time": 1.6,
          "cell": "ij_entry"
         },
         {
          "Difference": 0.17033940215146315,
          "End State": [
           2
          ],
          "Start State": [
           4
          ],
          "Time": 1.6,
          "cell": "ij_entry"
         },
         {
          "Difference": -0.0007964893444025525,
          "End State": [
           3
          ],
          "Start State": [
           4
          ],
          "Time": 1.6,
          "cell": "ij_entry"
         },
         {
          "Difference": 0.15550985070299705,
          "End State": [
           4
          ],
          "Start State": [
           4
          ],
          "Time": 1.6,
          "cell": "ii_entry"
         },
         {
          "Difference": -0.0029871752374016555,
          "End State": [
           5
          ],
          "Start State": [
           4
          ],
          "Time": 1.6,
          "cell": "ij_entry"
         },
         {
          "Difference": 0.01331917099697795,
          "End State": [
           0
          ],
          "Start State": [
           5
          ],
          "Time": 1.6,
          "cell": "ij_entry"
         },
         {
          "Difference": 0.014012119697947488,
          "End State": [
           1
          ],
          "Start State": [
           5
          ],
          "Time": 1.6,
          "cell": "ij_entry"
         },
         {
          "Difference": 0.01292407887944269,
          "End State": [
           2
          ],
          "Start State": [
           5
          ],
          "Time": 1.6,
          "cell": "ij_entry"
         },
         {
          "Difference": 0.014545179200500226,
          "End State": [
           3
          ],
          "Start State": [
           5
          ],
          "Time": 1.6,
          "cell": "ij_entry"
         },
         {
          "Difference": 0.013751276426961084,
          "End State": [
           4
          ],
          "Start State": [
           5
          ],
          "Time": 1.6,
          "cell": "ij_entry"
         },
         {
          "Difference": 0.3622481747981704,
          "End State": [
           5
          ],
          "Start State": [
           5
          ],
          "Time": 1.6,
          "cell": "ii_entry"
         },
         {
          "Difference": 0.33482437299633205,
          "End State": [
           0
          ],
          "Start State": [
           0
          ],
          "Time": 1.7000000000000002,
          "cell": "ii_entry"
         },
         {
          "Difference": 0.019913869478513056,
          "End State": [
           1
          ],
          "Start State": [
           0
          ],
          "Time": 1.7000000000000002,
          "cell": "ij_entry"
         },
         {
          "Difference": 0.027591505325256574,
          "End State": [
           2
          ],
          "Start State": [
           0
          ],
          "Time": 1.7000000000000002,
          "cell": "ij_entry"
         },
         {
          "Difference": 0.05678000604384999,
          "End State": [
           3
          ],
          "Start State": [
           0
          ],
          "Time": 1.7000000000000002,
          "cell": "ij_entry"
         },
         {
          "Difference": 0.00648401186064906,
          "End State": [
           4
          ],
          "Start State": [
           0
          ],
          "Time": 1.7000000000000002,
          "cell": "ij_entry"
         },
         {
          "Difference": 0.0176062342953993,
          "End State": [
           5
          ],
          "Start State": [
           0
          ],
          "Time": 1.7000000000000002,
          "cell": "ij_entry"
         },
         {
          "Difference": 0.004675296119423009,
          "End State": [
           0
          ],
          "Start State": [
           1
          ],
          "Time": 1.7000000000000002,
          "cell": "ij_entry"
         },
         {
          "Difference": 0.31124155186486047,
          "End State": [
           1
          ],
          "Start State": [
           1
          ],
          "Time": 1.7000000000000002,
          "cell": "ii_entry"
         },
         {
          "Difference": 0.041321846227126105,
          "End State": [
           2
          ],
          "Start State": [
           1
          ],
          "Time": 1.7000000000000002,
          "cell": "ij_entry"
         },
         {
          "Difference": 0.004031798626507821,
          "End State": [
           3
          ],
          "Start State": [
           1
          ],
          "Time": 1.7000000000000002,
          "cell": "ij_entry"
         },
         {
          "Difference": -0.00029909525389906766,
          "End State": [
           4
          ],
          "Start State": [
           1
          ],
          "Time": 1.7000000000000002,
          "cell": "ij_entry"
         },
         {
          "Difference": -0.004371397584018374,
          "End State": [
           5
          ],
          "Start State": [
           1
          ],
          "Time": 1.7000000000000002,
          "cell": "ij_entry"
         },
         {
          "Difference": 0.05832735948144201,
          "End State": [
           0
          ],
          "Start State": [
           2
          ],
          "Time": 1.7000000000000002,
          "cell": "ij_entry"
         },
         {
          "Difference": 0.06464989355474927,
          "End State": [
           1
          ],
          "Start State": [
           2
          ],
          "Time": 1.7000000000000002,
          "cell": "ij_entry"
         },
         {
          "Difference": 0.34221753167283564,
          "End State": [
           2
          ],
          "Start State": [
           2
          ],
          "Time": 1.7000000000000002,
          "cell": "ii_entry"
         },
         {
          "Difference": 0.04800275799742987,
          "End State": [
           3
          ],
          "Start State": [
           2
          ],
          "Time": 1.7000000000000002,
          "cell": "ij_entry"
         },
         {
          "Difference": 0.08756408457938747,
          "End State": [
           4
          ],
          "Start State": [
           2
          ],
          "Time": 1.7000000000000002,
          "cell": "ij_entry"
         },
         {
          "Difference": 0.05503837271415593,
          "End State": [
           5
          ],
          "Start State": [
           2
          ],
          "Time": 1.7000000000000002,
          "cell": "ij_entry"
         },
         {
          "Difference": 0.06988814743019753,
          "End State": [
           0
          ],
          "Start State": [
           3
          ],
          "Time": 1.7000000000000002,
          "cell": "ij_entry"
         },
         {
          "Difference": 0.014024521349785497,
          "End State": [
           1
          ],
          "Start State": [
           3
          ],
          "Time": 1.7000000000000002,
          "cell": "ij_entry"
         },
         {
          "Difference": 0.01766550312940879,
          "End State": [
           2
          ],
          "Start State": [
           3
          ],
          "Time": 1.7000000000000002,
          "cell": "ij_entry"
         },
         {
          "Difference": 0.2899245901100239,
          "End State": [
           3
          ],
          "Start State": [
           3
          ],
          "Time": 1.7000000000000002,
          "cell": "ii_entry"
         },
         {
          "Difference": 0.011524565294665959,
          "End State": [
           4
          ],
          "Start State": [
           3
          ],
          "Time": 1.7000000000000002,
          "cell": "ij_entry"
         },
         {
          "Difference": 0.0509726726859183,
          "End State": [
           5
          ],
          "Start State": [
           3
          ],
          "Time": 1.7000000000000002,
          "cell": "ij_entry"
         },
         {
          "Difference": -0.0088758532582153,
          "End State": [
           0
          ],
          "Start State": [
           4
          ],
          "Time": 1.7000000000000002,
          "cell": "ij_entry"
         },
         {
          "Difference": 0.005906823659341295,
          "End State": [
           1
          ],
          "Start State": [
           4
          ],
          "Time": 1.7000000000000002,
          "cell": "ij_entry"
         },
         {
          "Difference": 0.17817253596240074,
          "End State": [
           2
          ],
          "Start State": [
           4
          ],
          "Time": 1.7000000000000002,
          "cell": "ij_entry"
         },
         {
          "Difference": 0.003795283335714758,
          "End State": [
           3
          ],
          "Start State": [
           4
          ],
          "Time": 1.7000000000000002,
          "cell": "ij_entry"
         },
         {
          "Difference": 0.13163436473963397,
          "End State": [
           4
          ],
          "Start State": [
           4
          ],
          "Time": 1.7000000000000002,
          "cell": "ii_entry"
         },
         {
          "Difference": 0.014766845561124287,
          "End State": [
           5
          ],
          "Start State": [
           4
          ],
          "Time": 1.7000000000000002,
          "cell": "ij_entry"
         },
         {
          "Difference": 0.01297006244969455,
          "End State": [
           0
          ],
          "Start State": [
           5
          ],
          "Time": 1.7000000000000002,
          "cell": "ij_entry"
         },
         {
          "Difference": 0.010490090856159998,
          "End State": [
           1
          ],
          "Start State": [
           5
          ],
          "Time": 1.7000000000000002,
          "cell": "ij_entry"
         },
         {
          "Difference": 0.03269256014615242,
          "End State": [
           2
          ],
          "Start State": [
           5
          ],
          "Time": 1.7000000000000002,
          "cell": "ij_entry"
         },
         {
          "Difference": 0.02167075472001597,
          "End State": [
           3
          ],
          "Start State": [
           5
          ],
          "Time": 1.7000000000000002,
          "cell": "ij_entry"
         },
         {
          "Difference": 0.013013212142891636,
          "End State": [
           4
          ],
          "Start State": [
           5
          ],
          "Time": 1.7000000000000002,
          "cell": "ij_entry"
         },
         {
          "Difference": 0.35396331968508526,
          "End State": [
           5
          ],
          "Start State": [
           5
          ],
          "Time": 1.7000000000000002,
          "cell": "ii_entry"
         },
         {
          "Difference": 0.3165399732329394,
          "End State": [
           0
          ],
          "Start State": [
           0
          ],
          "Time": 1.8000000000000003,
          "cell": "ii_entry"
         },
         {
          "Difference": 0.01674119422725473,
          "End State": [
           1
          ],
          "Start State": [
           0
          ],
          "Time": 1.8000000000000003,
          "cell": "ij_entry"
         },
         {
          "Difference": 0.02610815602472359,
          "End State": [
           2
          ],
          "Start State": [
           0
          ],
          "Time": 1.8000000000000003,
          "cell": "ij_entry"
         },
         {
          "Difference": 0.07057896101863058,
          "End State": [
           3
          ],
          "Start State": [
           0
          ],
          "Time": 1.8000000000000003,
          "cell": "ij_entry"
         },
         {
          "Difference": 0.014428533846092686,
          "End State": [
           4
          ],
          "Start State": [
           0
          ],
          "Time": 1.8000000000000003,
          "cell": "ij_entry"
         },
         {
          "Difference": 0.024803181650359038,
          "End State": [
           5
          ],
          "Start State": [
           0
          ],
          "Time": 1.8000000000000003,
          "cell": "ij_entry"
         },
         {
          "Difference": 0.00977719162453071,
          "End State": [
           0
          ],
          "Start State": [
           1
          ],
          "Time": 1.8000000000000003,
          "cell": "ij_entry"
         },
         {
          "Difference": 0.3075803819924758,
          "End State": [
           1
          ],
          "Start State": [
           1
          ],
          "Time": 1.8000000000000003,
          "cell": "ii_entry"
         },
         {
          "Difference": 0.05215963024941275,
          "End State": [
           2
          ],
          "Start State": [
           1
          ],
          "Time": 1.8000000000000003,
          "cell": "ij_entry"
         },
         {
          "Difference": 0.004230763695234195,
          "End State": [
           3
          ],
          "Start State": [
           1
          ],
          "Time": 1.8000000000000003,
          "cell": "ij_entry"
         },
         {
          "Difference": 0.0037988021077193304,
          "End State": [
           4
          ],
          "Start State": [
           1
          ],
          "Time": 1.8000000000000003,
          "cell": "ij_entry"
         },
         {
          "Difference": 0.001453230330627192,
          "End State": [
           5
          ],
          "Start State": [
           1
          ],
          "Time": 1.8000000000000003,
          "cell": "ij_entry"
         },
         {
          "Difference": 0.06082966296103402,
          "End State": [
           0
          ],
          "Start State": [
           2
          ],
          "Time": 1.8000000000000003,
          "cell": "ij_entry"
         },
         {
          "Difference": 0.0784811668166368,
          "End State": [
           1
          ],
          "Start State": [
           2
          ],
          "Time": 1.8000000000000003,
          "cell": "ij_entry"
         },
         {
          "Difference": 0.3414592052128864,
          "End State": [
           2
          ],
          "Start State": [
           2
          ],
          "Time": 1.8000000000000003,
          "cell": "ii_entry"
         },
         {
          "Difference": 0.054104925660421646,
          "End State": [
           3
          ],
          "Start State": [
           2
          ],
          "Time": 1.8000000000000003,
          "cell": "ij_entry"
         },
         {
          "Difference": 0.0852618373111568,
          "End State": [
           4
          ],
          "Start State": [
           2
          ],
          "Time": 1.8000000000000003,
          "cell": "ij_entry"
         },
         {
          "Difference": 0.06226320203786449,
          "End State": [
           5
          ],
          "Start State": [
           2
          ],
          "Time": 1.8000000000000003,
          "cell": "ij_entry"
         },
         {
          "Difference": 0.07134554892715365,
          "End State": [
           0
          ],
          "Start State": [
           3
          ],
          "Time": 1.8000000000000003,
          "cell": "ij_entry"
         },
         {
          "Difference": 0.024878038073456538,
          "End State": [
           1
          ],
          "Start State": [
           3
          ],
          "Time": 1.8000000000000003,
          "cell": "ij_entry"
         },
         {
          "Difference": 0.03224502352720744,
          "End State": [
           2
          ],
          "Start State": [
           3
          ],
          "Time": 1.8000000000000003,
          "cell": "ij_entry"
         },
         {
          "Difference": 0.2846797488656295,
          "End State": [
           3
          ],
          "Start State": [
           3
          ],
          "Time": 1.8000000000000003,
          "cell": "ii_entry"
         },
         {
          "Difference": 0.011691165965725892,
          "End State": [
           4
          ],
          "Start State": [
           3
          ],
          "Time": 1.8000000000000003,
          "cell": "ij_entry"
         },
         {
          "Difference": 0.045160474640826904,
          "End State": [
           5
          ],
          "Start State": [
           3
          ],
          "Time": 1.8000000000000003,
          "cell": "ij_entry"
         },
         {
          "Difference": 0.0044553763387698495,
          "End State": [
           0
          ],
          "Start State": [
           4
          ],
          "Time": 1.8000000000000003,
          "cell": "ij_entry"
         },
         {
          "Difference": -0.0008618517858176578,
          "End State": [
           1
          ],
          "Start State": [
           4
          ],
          "Time": 1.8000000000000003,
          "cell": "ij_entry"
         },
         {
          "Difference": 0.1794364168415425,
          "End State": [
           2
          ],
          "Start State": [
           4
          ],
          "Time": 1.8000000000000003,
          "cell": "ij_entry"
         },
         {
          "Difference": 0.015222660113560785,
          "End State": [
           3
          ],
          "Start State": [
           4
          ],
          "Time": 1.8000000000000003,
          "cell": "ij_entry"
         },
         {
          "Difference": 0.12519287019366604,
          "End State": [
           4
          ],
          "Start State": [
           4
          ],
          "Time": 1.8000000000000003,
          "cell": "ii_entry"
         },
         {
          "Difference": 0.013154528298278262,
          "End State": [
           5
          ],
          "Start State": [
           4
          ],
          "Time": 1.8000000000000003,
          "cell": "ij_entry"
         },
         {
          "Difference": 0.01542920215421767,
          "End State": [
           0
          ],
          "Start State": [
           5
          ],
          "Time": 1.8000000000000003,
          "cell": "ij_entry"
         },
         {
          "Difference": 0.02152784878578183,
          "End State": [
           1
          ],
          "Start State": [
           5
          ],
          "Time": 1.8000000000000003,
          "cell": "ij_entry"
         },
         {
          "Difference": 0.0360967440436038,
          "End State": [
           2
          ],
          "Start State": [
           5
          ],
          "Time": 1.8000000000000003,
          "cell": "ij_entry"
         },
         {
          "Difference": 0.030379246264607397,
          "End State": [
           3
          ],
          "Start State": [
           5
          ],
          "Time": 1.8000000000000003,
          "cell": "ij_entry"
         },
         {
          "Difference": 0.014088646740040397,
          "End State": [
           4
          ],
          "Start State": [
           5
          ],
          "Time": 1.8000000000000003,
          "cell": "ij_entry"
         },
         {
          "Difference": 0.3438783120117488,
          "End State": [
           5
          ],
          "Start State": [
           5
          ],
          "Time": 1.8000000000000003,
          "cell": "ii_entry"
         },
         {
          "Difference": 0.3117322898751704,
          "End State": [
           0
          ],
          "Start State": [
           0
          ],
          "Time": 1.9000000000000001,
          "cell": "ii_entry"
         },
         {
          "Difference": 0.022490459461763528,
          "End State": [
           1
          ],
          "Start State": [
           0
          ],
          "Time": 1.9000000000000001,
          "cell": "ij_entry"
         },
         {
          "Difference": 0.029028953889113335,
          "End State": [
           2
          ],
          "Start State": [
           0
          ],
          "Time": 1.9000000000000001,
          "cell": "ij_entry"
         },
         {
          "Difference": 0.07553762151894422,
          "End State": [
           3
          ],
          "Start State": [
           0
          ],
          "Time": 1.9000000000000001,
          "cell": "ij_entry"
         },
         {
          "Difference": 0.010034917794222224,
          "End State": [
           4
          ],
          "Start State": [
           0
          ],
          "Time": 1.9000000000000001,
          "cell": "ij_entry"
         },
         {
          "Difference": 0.028575757460786347,
          "End State": [
           5
          ],
          "Start State": [
           0
          ],
          "Time": 1.9000000000000001,
          "cell": "ij_entry"
         },
         {
          "Difference": 0.007027938929830779,
          "End State": [
           0
          ],
          "Start State": [
           1
          ],
          "Time": 1.9000000000000001,
          "cell": "ij_entry"
         },
         {
          "Difference": 0.29291884749152564,
          "End State": [
           1
          ],
          "Start State": [
           1
          ],
          "Time": 1.9000000000000001,
          "cell": "ii_entry"
         },
         {
          "Difference": 0.05192726814674686,
          "End State": [
           2
          ],
          "Start State": [
           1
          ],
          "Time": 1.9000000000000001,
          "cell": "ij_entry"
         },
         {
          "Difference": 0.009771283931440035,
          "End State": [
           3
          ],
          "Start State": [
           1
          ],
          "Time": 1.9000000000000001,
          "cell": "ij_entry"
         },
         {
          "Difference": 0.005707539946733248,
          "End State": [
           4
          ],
          "Start State": [
           1
          ],
          "Time": 1.9000000000000001,
          "cell": "ij_entry"
         },
         {
          "Difference": 0.01604712155372344,
          "End State": [
           5
          ],
          "Start State": [
           1
          ],
          "Time": 1.9000000000000001,
          "cell": "ij_entry"
         },
         {
          "Difference": 0.06389209025487289,
          "End State": [
           0
          ],
          "Start State": [
           2
          ],
          "Time": 1.9000000000000001,
          "cell": "ij_entry"
         },
         {
          "Difference": 0.07433913787800189,
          "End State": [
           1
          ],
          "Start State": [
           2
          ],
          "Time": 1.9000000000000001,
          "cell": "ij_entry"
         },
         {
          "Difference": 0.3223471176076561,
          "End State": [
           2
          ],
          "Start State": [
           2
          ],
          "Time": 1.9000000000000001,
          "cell": "ii_entry"
         },
         {
          "Difference": 0.05932673792783855,
          "End State": [
           3
          ],
          "Start State": [
           2
          ],
          "Time": 1.9000000000000001,
          "cell": "ij_entry"
         },
         {
          "Difference": 0.08765579734038176,
          "End State": [
           4
          ],
          "Start State": [
           2
          ],
          "Time": 1.9000000000000001,
          "cell": "ij_entry"
         },
         {
          "Difference": 0.06943911899124902,
          "End State": [
           5
          ],
          "Start State": [
           2
          ],
          "Time": 1.9000000000000001,
          "cell": "ij_entry"
         },
         {
          "Difference": 0.0833206428178698,
          "End State": [
           0
          ],
          "Start State": [
           3
          ],
          "Time": 1.9000000000000001,
          "cell": "ij_entry"
         },
         {
          "Difference": 0.024858436221511453,
          "End State": [
           1
          ],
          "Start State": [
           3
          ],
          "Time": 1.9000000000000001,
          "cell": "ij_entry"
         },
         {
          "Difference": 0.04779170871198192,
          "End State": [
           2
          ],
          "Start State": [
           3
          ],
          "Time": 1.9000000000000001,
          "cell": "ij_entry"
         },
         {
          "Difference": 0.283871028963338,
          "End State": [
           3
          ],
          "Start State": [
           3
          ],
          "Time": 1.9000000000000001,
          "cell": "ii_entry"
         },
         {
          "Difference": 0.023266840244656913,
          "End State": [
           4
          ],
          "Start State": [
           3
          ],
          "Time": 1.9000000000000001,
          "cell": "ij_entry"
         },
         {
          "Difference": 0.05329134304064184,
          "End State": [
           5
          ],
          "Start State": [
           3
          ],
          "Time": 1.9000000000000001,
          "cell": "ij_entry"
         },
         {
          "Difference": 0.0021305303791714775,
          "End State": [
           0
          ],
          "Start State": [
           4
          ],
          "Time": 1.9000000000000001,
          "cell": "ij_entry"
         },
         {
          "Difference": 0.012790007953266527,
          "End State": [
           1
          ],
          "Start State": [
           4
          ],
          "Time": 1.9000000000000001,
          "cell": "ij_entry"
         },
         {
          "Difference": 0.18400549994202647,
          "End State": [
           2
          ],
          "Start State": [
           4
          ],
          "Time": 1.9000000000000001,
          "cell": "ij_entry"
         },
         {
          "Difference": 0.01886939734291196,
          "End State": [
           3
          ],
          "Start State": [
           4
          ],
          "Time": 1.9000000000000001,
          "cell": "ij_entry"
         },
         {
          "Difference": 0.11725213066444067,
          "End State": [
           4
          ],
          "Start State": [
           4
          ],
          "Time": 1.9000000000000001,
          "cell": "ii_entry"
         },
         {
          "Difference": 0.012352433718182627,
          "End State": [
           5
          ],
          "Start State": [
           4
          ],
          "Time": 1.9000000000000001,
          "cell": "ij_entry"
         },
         {
          "Difference": 0.023251826281281883,
          "End State": [
           0
          ],
          "Start State": [
           5
          ],
          "Time": 1.9000000000000001,
          "cell": "ij_entry"
         },
         {
          "Difference": 0.020694435779848572,
          "End State": [
           1
          ],
          "Start State": [
           5
          ],
          "Time": 1.9000000000000001,
          "cell": "ij_entry"
         },
         {
          "Difference": 0.030480389530154403,
          "End State": [
           2
          ],
          "Start State": [
           5
          ],
          "Time": 1.9000000000000001,
          "cell": "ij_entry"
         },
         {
          "Difference": 0.03723938454277415,
          "End State": [
           3
          ],
          "Start State": [
           5
          ],
          "Time": 1.9000000000000001,
          "cell": "ij_entry"
         },
         {
          "Difference": 0.016568197560484863,
          "End State": [
           4
          ],
          "Start State": [
           5
          ],
          "Time": 1.9000000000000001,
          "cell": "ij_entry"
         },
         {
          "Difference": 0.3335657663054559,
          "End State": [
           5
          ],
          "Start State": [
           5
          ],
          "Time": 1.9000000000000001,
          "cell": "ii_entry"
         }
        ]
       },
       "encoding": {
        "color": {
         "field": "cell",
         "legend": {
          "title": "Cell Type"
         },
         "type": "nominal"
        },
        "tooltip": [
         {
          "field": "Difference",
          "type": "quantitative"
         },
         {
          "field": "Start State",
          "type": "nominal"
         },
         {
          "field": "End State",
          "type": "nominal"
         },
         {
          "field": "Time",
          "type": "quantitative"
         }
        ],
        "x": {
         "field": "Time",
         "type": "quantitative"
        },
        "y": {
         "field": "Difference",
         "type": "quantitative"
        }
       },
       "mark": {
        "size": 60,
        "type": "circle"
       },
       "selection": {
        "selector002": {
         "bind": "scales",
         "encodings": [
          "x",
          "y"
         ],
         "mark": {
          "fill": "#333",
          "fillOpacity": 0.125,
          "stroke": "white"
         },
         "on": "[mousedown, window:mouseup] > window:mousemove!",
         "resolve": "global",
         "translate": "[mousedown, window:mouseup] > window:mousemove!",
         "type": "interval",
         "zoom": "wheel!"
        }
       }
      },
      "image/png": "[encoded data removed]",
      "text/plain": [
       "<VegaLite 2 object>\n",
       "\n",
       "If you see this message, it means the renderer has not been properly enabled\n",
       "for the frontend that you are using. For more information, see\n",
       "https://altair-viz.github.io/user_guide/troubleshooting.html\n"
      ]
     },
     "execution_count": 35,
     "metadata": {},
     "output_type": "execute_result"
    }
   ],
   "source": [
    "alt.Chart(difference_df).mark_circle(size=60).encode(\n",
    "    x='Time',\n",
    "    y='Difference',\n",
    "    tooltip=['Difference', 'Start State', 'End State', 'Time'],\n",
    "    color=alt.Color('cell', legend=alt.Legend(title=\"Cell Type\"))\n",
    ").interactive()"
   ]
  }
 ],
 "metadata": {
  "kernelspec": {
   "display_name": "Python 3",
   "language": "python",
   "name": "python3"
  },
  "language_info": {
   "codemirror_mode": {
    "name": "ipython",
    "version": 3
   },
   "file_extension": ".py",
   "mimetype": "text/x-python",
   "name": "python",
   "nbconvert_exporter": "python",
   "pygments_lexer": "ipython3",
   "version": "3.7.3"
  }
 },
 "nbformat": 4,
 "nbformat_minor": 2
}
