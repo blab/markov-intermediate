{
 "cells": [
  {
   "cell_type": "markdown",
   "metadata": {},
   "source": [
    "# Method to Determine Eigenvectors and Eigenvalues for Q"
   ]
  },
  {
   "cell_type": "code",
   "execution_count": 1,
   "metadata": {
    "scrolled": false
   },
   "outputs": [
    {
     "name": "stdout",
     "output_type": "stream",
     "text": [
      "Q : /n [[0.     0.121  0.1864 0.337  0.0631 0.158 ]\n",
      " [0.148  0.     0.3739 0.1349 0.0632 0.1582]\n",
      " [0.1461 0.2398 0.     0.1333 0.4073 0.1558]\n",
      " [0.3692 0.1209 0.1863 0.     0.0947 0.2368]\n",
      " [0.1468 0.1203 1.2085 0.201  0.     0.2359]\n",
      " [0.1471 0.1205 0.185  0.2012 0.0944 0.    ]]\n",
      "Eigenvlaues : [ 1.0875624  -0.73617136  0.23732603 -0.36128127 -0.1420708  -0.08536501]\n",
      "Eigenvectors: [[ 0.28710999  0.04290567  0.46136169 -0.63615448  0.40084388  0.17589605]\n",
      " [ 0.30739469  0.19232918  0.05956636  0.08476569  0.24288162 -0.865512  ]\n",
      " [ 0.43716967 -0.52342231 -0.31186057 -0.02886221  0.0809903   0.01622366]\n",
      " [ 0.32323948 -0.02464578  0.48461299  0.74519149  0.11134992  0.22228956]\n",
      " [ 0.67591782  0.8285685  -0.6301251   0.02758735 -0.01777006  0.40345384]\n",
      " [ 0.26572614 -0.00803087  0.23330845 -0.17668562 -0.87238678 -0.08659509]]\n"
     ]
    }
   ],
   "source": [
    "#These are the EigenVectors and Eigen Values Q\n",
    "\n",
    "import numpy as np\n",
    "\n",
    "Q = np.mat(\"0 0.121 0.1864 0.337 0.0631 0.158; 0.148 0 0.3739 0.1349 0.0632 0.1582; 0.1461 0.2398 0 0.1333 0.4073 0.1558; 0.3692 0.1209 0.1863 0 0.0947 0.2368; 0.1468 0.1203 1.2085 0.201 0 0.2359; 0.1471 0.1205 0.185 0.2012 0.0944 0\")\n",
    "print(\"Q : /n\", Q)\n",
    "\n",
    "print(\"Eigenvlaues :\", np.linalg.eigvals(Q))\n",
    "\n",
    "eigenvalue,eigenvector = np.linalg.eig(Q)\n",
    "\n",
    "print(\"Eigenvectors:\", eigenvector)"
   ]
  },
  {
   "cell_type": "code",
   "execution_count": 2,
   "metadata": {},
   "outputs": [
    {
     "data": {
      "text/plain": [
       "array([ 1.0875624 , -0.73617136,  0.23732603, -0.36128127, -0.1420708 ,\n",
       "       -0.08536501])"
      ]
     },
     "execution_count": 2,
     "metadata": {},
     "output_type": "execute_result"
    }
   ],
   "source": [
    "eigenvalue"
   ]
  },
  {
   "cell_type": "markdown",
   "metadata": {},
   "source": [
    "# Method to detemine the Eigenvalue decomposition of Q"
   ]
  },
  {
   "cell_type": "code",
   "execution_count": 3,
   "metadata": {
    "scrolled": true
   },
   "outputs": [
    {
     "name": "stdout",
     "output_type": "stream",
     "text": [
      "[[ 8.32667268e-17  1.21000000e-01  1.86400000e-01  3.37000000e-01\n",
      "   6.31000000e-02  1.58000000e-01]\n",
      " [ 1.48000000e-01  1.52655666e-16  3.73900000e-01  1.34900000e-01\n",
      "   6.32000000e-02  1.58200000e-01]\n",
      " [ 1.46100000e-01  2.39800000e-01 -7.21644966e-16  1.33300000e-01\n",
      "   4.07300000e-01  1.55800000e-01]\n",
      " [ 3.69200000e-01  1.20900000e-01  1.86300000e-01  1.38777878e-16\n",
      "   9.47000000e-02  2.36800000e-01]\n",
      " [ 1.46800000e-01  1.20300000e-01  1.20850000e+00  2.01000000e-01\n",
      "   5.55111512e-17  2.35900000e-01]\n",
      " [ 1.47100000e-01  1.20500000e-01  1.85000000e-01  2.01200000e-01\n",
      "   9.44000000e-02 -2.35922393e-16]]\n",
      "\n",
      "\n",
      "\n",
      "[ 1.0875624  -0.73617136  0.23732603 -0.36128127 -0.1420708  -0.08536501]\n"
     ]
    }
   ],
   "source": [
    "# This is the EigenValue Decomposition of Q\n",
    "\n",
    "u, V = np.linalg.eig(Q)\n",
    "\n",
    "print(np.dot(V,np.dot(np.diag(u), np.linalg.inv(V))))\n",
    "print()\n",
    "print()\n",
    "print()\n",
    "\n",
    "print(u)"
   ]
  },
  {
   "cell_type": "code",
   "execution_count": 4,
   "metadata": {
    "scrolled": false
   },
   "outputs": [
    {
     "name": "stdout",
     "output_type": "stream",
     "text": [
      "[[ 0.37232675  0.32609711  0.72314732  0.38257685  0.37681871  0.37015648]\n",
      " [ 0.06321434  0.23228338 -0.9857207  -0.0331247   0.5259022  -0.01273645]\n",
      " [ 0.58899657  0.06203076 -0.50780358  0.56473636 -0.34578918  0.31988413]\n",
      " [-0.66793167  0.07274679 -0.03877714  0.71423387  0.01251784 -0.19933887]\n",
      " [ 0.38290738  0.19066989  0.09873509  0.09695451 -0.00751026 -0.89556354]\n",
      " [ 0.22885538 -0.92305251  0.02675266  0.26453883  0.22601418 -0.12018798]]\n",
      "[[ 1.0875624   0.          0.          0.          0.          0.        ]\n",
      " [ 0.         -0.73617136  0.          0.          0.          0.        ]\n",
      " [ 0.          0.          0.23732603  0.          0.          0.        ]\n",
      " [ 0.          0.          0.         -0.36128127  0.          0.        ]\n",
      " [ 0.          0.          0.          0.         -0.1420708   0.        ]\n",
      " [ 0.          0.          0.          0.          0.         -0.08536501]]\n",
      "\n",
      "\n",
      "\n",
      "[[-1.96554309e-09  1.20999999e-01  1.86400000e-01  3.37000000e-01\n",
      "   6.31000003e-02  1.58000000e-01]\n",
      " [ 1.47999999e-01  1.05980623e-09  3.73900000e-01  1.34899999e-01\n",
      "   6.31999991e-02  1.58200000e-01]\n",
      " [ 1.46100000e-01  2.39800000e-01 -2.92581698e-09  1.33300000e-01\n",
      "   4.07300001e-01  1.55800000e-01]\n",
      " [ 3.69200000e-01  1.20899999e-01  1.86300000e-01 -1.93004696e-09\n",
      "   9.47000004e-02  2.36800000e-01]\n",
      " [ 1.46800001e-01  1.20299998e-01  1.20850000e+00  2.01000001e-01\n",
      "  -2.49880794e-09  2.35900000e-01]\n",
      " [ 1.47100000e-01  1.20500000e-01  1.85000000e-01  2.01200000e-01\n",
      "   9.44000000e-02 -1.73959105e-09]]\n"
     ]
    }
   ],
   "source": [
    "eigenvector_inv = np.linalg.inv(eigenvector)\n",
    "print(eigenvector_inv)\n",
    "\n",
    "Q_values = np.mat(\"1.0875624 0 0 0 0 0; 0 -0.73617136 0 0 0 0; 0 0 0.23732603 0 0 0; 0 0 0 -0.36128127 0 0; 0 0 0 0 -0.1420708 0; 0 0 0 0 0 -0.08536501\")\n",
    "print(Q_values)\n",
    "\n",
    "S_i = eigenvector*Q_values*eigenvector_inv\n",
    "print()\n",
    "print()\n",
    "print()\n",
    "\n",
    "\n",
    "\n",
    "print(S_i)"
   ]
  },
  {
   "cell_type": "code",
   "execution_count": 5,
   "metadata": {},
   "outputs": [],
   "source": [
    "def I_ij_calculation_method(rate_i, time, rate_j):\n",
    "    if rate_i == rate_j:\n",
    "        I_ij = time*exp(rate_i*time)\n",
    "    else: \n",
    "        I_ij = (exp(rate_i*time)-exp(rate_j*time))/(rate_i - rate_j)\n",
    "    \n",
    "    return I_ij"
   ]
  },
  {
   "cell_type": "code",
   "execution_count": 6,
   "metadata": {},
   "outputs": [],
   "source": [
    "m= Q.shape[0]"
   ]
  },
  {
   "cell_type": "code",
   "execution_count": 7,
   "metadata": {},
   "outputs": [
    {
     "data": {
      "text/plain": [
       "6"
      ]
     },
     "execution_count": 7,
     "metadata": {},
     "output_type": "execute_result"
    }
   ],
   "source": [
    "m"
   ]
  },
  {
   "cell_type": "code",
   "execution_count": 8,
   "metadata": {},
   "outputs": [],
   "source": [
    "E = np.zeros((m,m))"
   ]
  },
  {
   "cell_type": "code",
   "execution_count": 9,
   "metadata": {},
   "outputs": [],
   "source": [
    "E[1,1] = 1"
   ]
  },
  {
   "cell_type": "code",
   "execution_count": 10,
   "metadata": {},
   "outputs": [
    {
     "data": {
      "text/plain": [
       "array([[0., 0., 0., 0., 0., 0.],\n",
       "       [0., 1., 0., 0., 0., 0.],\n",
       "       [0., 0., 0., 0., 0., 0.],\n",
       "       [0., 0., 0., 0., 0., 0.],\n",
       "       [0., 0., 0., 0., 0., 0.],\n",
       "       [0., 0., 0., 0., 0., 0.]])"
      ]
     },
     "execution_count": 10,
     "metadata": {},
     "output_type": "execute_result"
    }
   ],
   "source": [
    "E"
   ]
  },
  {
   "cell_type": "code",
   "execution_count": 11,
   "metadata": {
    "scrolled": false
   },
   "outputs": [],
   "source": [
    "def expected_number_of_transitions_in_time_t(t):  \n",
    "    E_n = np.zeros((m,m))\n",
    "    for i in range(m):\n",
    "        d_i=eigenvalue[i]\n",
    "        E_i = np.zeros((m,m))\n",
    "        E_i[i,i]=1\n",
    "\n",
    "\n",
    "        S_i = eigenvector*E_i*eigenvector_inv\n",
    "        \n",
    "        for j in range(m):\n",
    "            d_j=eigenvalue[j]\n",
    "            E_j = np.zeros((m,m))\n",
    "            E_j[j,j]=1\n",
    "            S_j= eigenvector*E_j*eigenvector_inv\n",
    "           \n",
    "            if d_i == d_j:\n",
    "                I_ij = t*np.exp(d_i*t)\n",
    "            else: \n",
    "                I_ij = (np.exp(d_i*t)-np.exp(d_j*t))/(d_i - d_j)\n",
    "\n",
    "            N_greek=S_i*Q*S_j*I_ij\n",
    "            E_n += N_greek\n",
    "         \n",
    "    return E_n\n"
   ]
  },
  {
   "cell_type": "code",
   "execution_count": 12,
   "metadata": {
    "scrolled": true
   },
   "outputs": [
    {
     "data": {
      "text/plain": [
       "array([[0.29671631, 0.32216739, 0.60292535, 0.53928089, 0.29240695,\n",
       "        0.4015138 ],\n",
       "       [0.39390026, 0.23894032, 0.77472723, 0.39165344, 0.34720075,\n",
       "        0.39666954],\n",
       "       [0.47266168, 0.49686286, 0.88455883, 0.48446971, 0.66095034,\n",
       "        0.49744687],\n",
       "       [0.59084211, 0.35101495, 0.67711223, 0.34118033, 0.34100175,\n",
       "        0.48440126],\n",
       "       [0.68017038, 0.66072331, 1.96112697, 0.72391751, 0.7265436 ,\n",
       "        0.75363261],\n",
       "       [0.37379798, 0.30209813, 0.59069936, 0.41158173, 0.30160222,\n",
       "        0.2338341 ]])"
      ]
     },
     "execution_count": 12,
     "metadata": {},
     "output_type": "execute_result"
    }
   ],
   "source": [
    "expected_number_of_transitions_in_time_t(1)"
   ]
  },
  {
   "cell_type": "code",
   "execution_count": 13,
   "metadata": {
    "scrolled": true
   },
   "outputs": [
    {
     "data": {
      "text/plain": [
       "array([[2.06565935, 1.83449652, 3.79334825, 2.44693295, 1.93999097,\n",
       "        2.18310751],\n",
       "       [2.24268549, 1.78010259, 4.29680167, 2.28637133, 2.19627797,\n",
       "        2.23160493],\n",
       "       [2.97385572, 2.75566119, 5.99789678, 3.06726565, 3.32933675,\n",
       "        3.03399921],\n",
       "       [2.68098238, 2.04921188, 4.28686094, 2.37899537, 2.19850387,\n",
       "        2.48652594],\n",
       "       [4.51265559, 4.17935483, 9.87861144, 4.66740662, 4.88283224,\n",
       "        4.64607836],\n",
       "       [2.0323786 , 1.69949305, 3.60279278, 2.11271819, 1.85938863,\n",
       "        1.75939457]])"
      ]
     },
     "execution_count": 13,
     "metadata": {},
     "output_type": "execute_result"
    }
   ],
   "source": [
    "expected_number_of_transitions_in_time_t(2)"
   ]
  },
  {
   "cell_type": "code",
   "execution_count": 14,
   "metadata": {},
   "outputs": [
    {
     "name": "stdout",
     "output_type": "stream",
     "text": [
      "AxesSubplot(0.125,0.11;0.62x0.77)\n"
     ]
    }
   ],
   "source": [
    "import seaborn as sns\n",
    "print(sns.heatmap(expected_number_of_transitions_in_time_t(2),annot=True))"
   ]
  },
  {
   "cell_type": "code",
   "execution_count": 15,
   "metadata": {},
   "outputs": [],
   "source": [
    "def expected_number_of_transitions_in_time_t(t, Q):  \n",
    "    m= Q.shape[0]\n",
    "    eigenvalue,eigenvector = np.linalg.eig(Q)\n",
    "    eigenvector_inv = np.linalg.inv(eigenvector)\n",
    "    E_n = np.zeros((m,m))\n",
    "    for i in range(m):\n",
    "        d_i=eigenvalue[i]\n",
    "        E_i = np.zeros((m,m))\n",
    "        E_i[i,i]=1\n",
    "\n",
    "\n",
    "        S_i = eigenvector*E_i*eigenvector_inv\n",
    "        \n",
    "        for j in range(m):\n",
    "            d_j=eigenvalue[j]\n",
    "            E_j = np.zeros((m,m))\n",
    "            E_j[j,j]=1\n",
    "            S_j= eigenvector*E_j*eigenvector_inv\n",
    "           \n",
    "            if d_i == d_j:\n",
    "                I_ij = t*np.exp(d_i*t)\n",
    "            else: \n",
    "                I_ij = (np.exp(d_i*t)-np.exp(d_j*t))/(d_i - d_j)\n",
    "\n",
    "            N_greek=S_i*Q*S_j*I_ij\n",
    "            E_n += N_greek\n",
    "         \n",
    "    return E_n"
   ]
  },
  {
   "cell_type": "code",
   "execution_count": null,
   "metadata": {},
   "outputs": [],
   "source": []
  }
 ],
 "metadata": {
  "kernelspec": {
   "display_name": "Python 3",
   "language": "python",
   "name": "python3"
  },
  "language_info": {
   "codemirror_mode": {
    "name": "ipython",
    "version": 3
   },
   "file_extension": ".py",
   "mimetype": "text/x-python",
   "name": "python",
   "nbconvert_exporter": "python",
   "pygments_lexer": "ipython3",
   "version": "3.7.3"
  }
 },
 "nbformat": 4,
 "nbformat_minor": 2
}
