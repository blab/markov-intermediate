{
 "cells": [
  {
   "cell_type": "code",
   "execution_count": 1,
   "metadata": {},
   "outputs": [],
   "source": [
    "import numpy as np"
   ]
  },
  {
   "cell_type": "markdown",
   "metadata": {},
   "source": [
    "# This is the Q Matrix from the Yang book\n",
    "## The reason for using the Q matrix from the Yang book is because we know that the manipulations done to the Q Matrix in the Yang book should perform as expected and if it can function properly it will show that the issue is not within the code but out Q Matrix its self. "
   ]
  },
  {
   "cell_type": "code",
   "execution_count": 5,
   "metadata": {},
   "outputs": [
    {
     "data": {
      "text/plain": [
       "matrix([[-1.4651,  1.3374,  0.1277,  0.    ],\n",
       "        [ 1.2154, -1.222 ,  0.0066,  0.    ],\n",
       "        [ 0.0099,  0.0808, -0.5993,  0.5086],\n",
       "        [ 0.    ,  0.    ,  0.853 , -0.853 ]])"
      ]
     },
     "execution_count": 5,
     "metadata": {},
     "output_type": "execute_result"
    }
   ],
   "source": [
    "Q = np.mat(\"-1.4651 1.3374 0.1277 0; 1.2154 -1.2220 0.0066 0; 0.0099 0.0808 -0.5993 0.5086; 0 0 0.8530 -0.8530\")\n",
    "Q"
   ]
  },
  {
   "cell_type": "code",
   "execution_count": 3,
   "metadata": {},
   "outputs": [],
   "source": [
    "def expected_number_of_transitions_in_time_t1(t, Q):  \n",
    "    m= Q.shape[0]\n",
    "    eigenvalue,eigenvector = np.linalg.eig(Q)\n",
    "    eigenvector_inv = np.linalg.inv(eigenvector)\n",
    "    E_n = np.zeros((m,m))\n",
    "    for i in range(m):      \n",
    "        d_i=eigenvalue[i]       \n",
    "        E_i = np.zeros((m,m))\n",
    "        E_i[i,i]=1\n",
    "        S_i = np.matmul(eigenvector,(np.matmul(E_i,eigenvector_inv)))\n",
    "        for j in range(m):\n",
    "            d_j=eigenvalue[j]\n",
    "            E_j = np.zeros((m,m))\n",
    "            E_j[j,j]=1\n",
    "            S_j= np.matmul(eigenvector,(np.matmul(E_j,eigenvector_inv)))\n",
    "            Q_l = np.zeros((m,m))\n",
    "            Q_l[i,j] = Q[i,j]\n",
    "            if d_i == d_j:\n",
    "                I_ij = t*np.exp(d_i*t)\n",
    "            else: \n",
    "                I_ij = (np.exp(d_i*t)-np.exp(d_j*t))/(d_i - d_j)\n",
    "            N_greek= S_i@Q_l@S_j*I_ij\n",
    "            E_n += N_greek\n",
    "    return E_n"
   ]
  },
  {
   "cell_type": "code",
   "execution_count": 6,
   "metadata": {},
   "outputs": [
    {
     "data": {
      "text/plain": [
       "array([[-0.0297251 , -0.09184213,  0.06620335, -0.02594866],\n",
       "       [-0.07446889, -0.27301061, -0.08997005, -0.13062929],\n",
       "       [ 0.06747336, -0.06023331, -0.27318334, -0.02335298],\n",
       "       [-0.02353135, -0.15899654, -0.0490429 , -0.06751508]])"
      ]
     },
     "execution_count": 6,
     "metadata": {},
     "output_type": "execute_result"
    }
   ],
   "source": [
    "expected_number_of_transitions_in_time_t(1, Q)"
   ]
  },
  {
   "cell_type": "markdown",
   "metadata": {},
   "source": [
    "# ^ As you can see, the matrix spits out a bunch of negative values which should be representing the expected number of transitions. ^ "
   ]
  },
  {
   "cell_type": "markdown",
   "metadata": {},
   "source": [
    "# Below are the other strategies I used to try to produce the Q Matrix with the expected number of transitions"
   ]
  },
  {
   "cell_type": "markdown",
   "metadata": {},
   "source": [
    "# ----------------------------------------------------------------------------------------------------------"
   ]
  },
  {
   "cell_type": "markdown",
   "metadata": {},
   "source": [
    "# Below is the original Set-up of the computations to calculate the number of transitions"
   ]
  },
  {
   "cell_type": "code",
   "execution_count": 7,
   "metadata": {},
   "outputs": [],
   "source": [
    "def expected_number_of_transitions_in_time_t2(t, Q):  \n",
    "    m= Q.shape[0]\n",
    "    eigenvalue,eigenvector = np.linalg.eig(Q)\n",
    "    eigenvector_inv = np.linalg.inv(eigenvector)\n",
    "    E_n = np.zeros((m,m))\n",
    "    for i in range(m):\n",
    "        d_i=eigenvalue[i]\n",
    "        E_i = np.zeros((m,m))\n",
    "        E_i[i,i]=1\n",
    "        S_i = eigenvector*E_i*eigenvector_inv\n",
    "        for j in range(m):\n",
    "            d_j=eigenvalue[j]\n",
    "            E_j = np.zeros((m,m))\n",
    "            E_j[j,j]=1\n",
    "            S_j= eigenvector*E_j*eigenvector_inv\n",
    "            if d_i == d_j:\n",
    "                I_ij = t*np.exp(d_i*t)\n",
    "            else: \n",
    "                I_ij = (np.exp(d_i*t)-np.exp(d_j*t))/(d_i - d_j)\n",
    "            N_greek=S_i*Q*S_j*I_ij\n",
    "            E_n += N_greek\n",
    "    return E_n"
   ]
  },
  {
   "cell_type": "code",
   "execution_count": 10,
   "metadata": {},
   "outputs": [
    {
     "data": {
      "text/plain": [
       "array([[-0.05943374, -0.06309743,  0.07230058,  0.05023059],\n",
       "       [-0.06197969, -0.0722013 ,  0.08161735,  0.05256364],\n",
       "       [ 0.05418001,  0.05934399, -0.09175121, -0.02177279],\n",
       "       [ 0.05879995,  0.06793525, -0.0365163 , -0.09021891]])"
      ]
     },
     "execution_count": 10,
     "metadata": {},
     "output_type": "execute_result"
    }
   ],
   "source": [
    "expected_number_of_transitions_in_time_t2(3, Q)"
   ]
  },
  {
   "cell_type": "markdown",
   "metadata": {},
   "source": [
    "# In the example above, 2 things are wrong. \n",
    "## Using an asterick for matrix multiplication is wrong, there is a better way to multiply matrices. \n",
    "## The Expected Number of Transitions Matrix in Time t, has negatives in the diagonal and has negative in various ij states when evaluated for 3< years. "
   ]
  },
  {
   "cell_type": "code",
   "execution_count": 13,
   "metadata": {},
   "outputs": [],
   "source": [
    "def expected_number_of_transitions_in_time_t3(t, Q):  \n",
    "    m= Q.shape[0]\n",
    "    eigenvalue,eigenvector = np.linalg.eig(Q)\n",
    "    eigenvector_inv = np.linalg.inv(eigenvector)\n",
    "    E_n = np.zeros((m,m))\n",
    "    for i in range(m):\n",
    "        d_i=eigenvalue[i]\n",
    "        E_i = np.zeros((m,m))\n",
    "        E_i[i,i]=1\n",
    "        S_i = eigenvector@E_i@eigenvector_inv\n",
    "        for j in range(m):\n",
    "            d_j=eigenvalue[j]\n",
    "            E_j = np.zeros((m,m))\n",
    "            E_j[j,j]=1\n",
    "            S_j= eigenvector@E_j@eigenvector_inv           \n",
    "            if d_i == d_j:\n",
    "                I_ij = t*np.exp(d_i*t)\n",
    "            else: \n",
    "                I_ij = (np.exp(d_i*t)-np.exp(d_j*t))/(d_i - d_j)\n",
    "            N_greek=S_i@Q@S_j*I_ij\n",
    "            E_n += N_greek         \n",
    "    return E_n"
   ]
  },
  {
   "cell_type": "code",
   "execution_count": 32,
   "metadata": {},
   "outputs": [
    {
     "data": {
      "text/plain": [
       "array([[-0.05943374, -0.06309743,  0.07230058,  0.05023059],\n",
       "       [-0.06197969, -0.0722013 ,  0.08161735,  0.05256364],\n",
       "       [ 0.05418001,  0.05934399, -0.09175121, -0.02177279],\n",
       "       [ 0.05879995,  0.06793525, -0.0365163 , -0.09021891]])"
      ]
     },
     "execution_count": 32,
     "metadata": {},
     "output_type": "execute_result"
    }
   ],
   "source": [
    "expected_number_of_transitions_in_time_t3(3, Q)"
   ]
  },
  {
   "cell_type": "markdown",
   "metadata": {},
   "source": [
    "# ^ Even when implementing the correct, matrix multipilcation function, the^ same Expected Number of Transitions in Time t Matrix is produced. Odd  "
   ]
  },
  {
   "cell_type": "code",
   "execution_count": 34,
   "metadata": {},
   "outputs": [],
   "source": [
    "def expected_number_of_transitions_in_time_t4(t, Q):  \n",
    "    m= Q.shape[0]\n",
    "    eigenvalue,eigenvector = np.linalg.eig(Q)\n",
    "    eigenvector_inv = np.linalg.inv(eigenvector)\n",
    "    E_n = np.zeros((m,m))\n",
    "    for i in range(m):\n",
    "        d_i=eigenvalue[i]\n",
    "        E_i = np.zeros((m,m))\n",
    "        E_i[i,i]=1\n",
    "        S_i = np.matmul(eigenvector,(np.matmul(E_i,eigenvector_inv)))        \n",
    "        for j in range(m):\n",
    "            d_j=eigenvalue[j]\n",
    "            E_j = np.zeros((m,m))\n",
    "            E_j[j,j]=1\n",
    "            S_j= np.matmul(eigenvector,(np.matmul(E_j,eigenvector_inv)))          \n",
    "            if d_i == d_j:\n",
    "                I_ij = t*np.exp(d_i*t)\n",
    "            else: \n",
    "                I_ij = (np.exp(d_i*t)-np.exp(d_j*t))/(d_i - d_j)\n",
    "            N_greek=np.matmul((np.matmul(S_i,Q)),S_j)*I_ij\n",
    "            E_n += N_greek        \n",
    "    return E_n"
   ]
  },
  {
   "cell_type": "code",
   "execution_count": 35,
   "metadata": {
    "scrolled": true
   },
   "outputs": [
    {
     "data": {
      "text/plain": [
       "array([[-0.12876896,  0.07214498,  0.03646152,  0.02016245],\n",
       "       [ 0.06325738, -0.11630073,  0.04061239,  0.01243096],\n",
       "       [ 0.02698167,  0.02983185, -0.16848619,  0.11167267],\n",
       "       [ 0.01453499,  0.02473099,  0.18729216, -0.22655813]])"
      ]
     },
     "execution_count": 35,
     "metadata": {},
     "output_type": "execute_result"
    }
   ],
   "source": [
    "expected_number_of_transitions_in_time_t4(1, Q)"
   ]
  },
  {
   "cell_type": "markdown",
   "metadata": {},
   "source": [
    "# This last example is to prove that the @ symbol and the np.matmul function operate the same and it doesn't matter which one is used. As displayed above the same Expected Number of Transitions in Time t Matrix is produced.  "
   ]
  },
  {
   "cell_type": "markdown",
   "metadata": {},
   "source": [
    "# My next step is to try everything over again, but with Scipy. It seems that some things on Scipy work a bit better than some things on numpy. "
   ]
  },
  {
   "cell_type": "code",
   "execution_count": 22,
   "metadata": {},
   "outputs": [],
   "source": [
    "import scipy\n",
    "from scipy import linalg"
   ]
  },
  {
   "cell_type": "code",
   "execution_count": 36,
   "metadata": {},
   "outputs": [],
   "source": [
    "def expected_number_of_transitions_in_time_t5(t, Q):  \n",
    "    m= Q.shape[0]\n",
    "    eigenvalue,eigenvector = linalg.eig(Q)\n",
    "    eigenvector_inv = linalg.inv(eigenvector)\n",
    "    E_n = np.zeros((m,m))\n",
    "    for i in range(m):\n",
    "        d_i=eigenvalue[i]\n",
    "        E_i = np.zeros((m,m))\n",
    "        E_i[i,i]=1\n",
    "        S_i = np.matmul(eigenvector,(np.matmul(E_i,eigenvector_inv)))        \n",
    "        for j in range(m):\n",
    "            d_j=eigenvalue[j]\n",
    "            E_j = np.zeros((m,m))\n",
    "            E_j[j,j]=1\n",
    "            S_j= np.matmul(eigenvector,(np.matmul(E_j,eigenvector_inv)))          \n",
    "            if d_i == d_j:\n",
    "                I_ij = t*np.exp(d_i*t)\n",
    "            else: \n",
    "                I_ij = (np.exp(d_i*t)-np.exp(d_j*t))/(d_i - d_j)\n",
    "            N_greek=np.matmul((np.matmul(S_i,Q)),S_j)*I_ij\n",
    "            np.add(E_n, N_greek, out=E_n, casting=\"unsafe\")\n",
    "    return E_n"
   ]
  },
  {
   "cell_type": "code",
   "execution_count": 37,
   "metadata": {},
   "outputs": [
    {
     "name": "stderr",
     "output_type": "stream",
     "text": [
      "C:\\Users\\simon\\Anaconda3\\Lib\\site-packages\\ipykernel_launcher.py:21: ComplexWarning: Casting complex values to real discards the imaginary part\n"
     ]
    },
    {
     "data": {
      "text/plain": [
       "array([[-0.05943374, -0.06309743,  0.07230058,  0.05023059],\n",
       "       [-0.06197969, -0.0722013 ,  0.08161735,  0.05256364],\n",
       "       [ 0.05418001,  0.05934399, -0.09175121, -0.02177279],\n",
       "       [ 0.05879995,  0.06793525, -0.0365163 , -0.09021891]])"
      ]
     },
     "execution_count": 37,
     "metadata": {},
     "output_type": "execute_result"
    }
   ],
   "source": [
    "expected_number_of_transitions_in_time_t5(3, Q)"
   ]
  },
  {
   "cell_type": "markdown",
   "metadata": {},
   "source": [
    "# Like all the others, it still produces the same Expected Number of Transitions Q Matrix and it also has this weird error thing.  \n",
    "\n",
    "### P.S. I could not find a matrix multiplication function in Scipy. If you know of any, please let me know."
   ]
  }
 ],
 "metadata": {
  "kernelspec": {
   "display_name": "Python 3",
   "language": "python",
   "name": "python3"
  },
  "language_info": {
   "codemirror_mode": {
    "name": "ipython",
    "version": 3
   },
   "file_extension": ".py",
   "mimetype": "text/x-python",
   "name": "python",
   "nbconvert_exporter": "python",
   "pygments_lexer": "ipython3",
   "version": "3.7.3"
  }
 },
 "nbformat": 4,
 "nbformat_minor": 2
}
